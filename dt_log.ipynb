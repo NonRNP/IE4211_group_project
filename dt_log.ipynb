{
 "cells": [
  {
   "cell_type": "code",
   "execution_count": 1,
   "metadata": {},
   "outputs": [],
   "source": [
    "import numpy as np\n",
    "import pandas as pd\n",
    "import matplotlib.pyplot as plt"
   ]
  },
  {
   "cell_type": "code",
   "execution_count": 2,
   "metadata": {},
   "outputs": [],
   "source": [
    "X_train = pd.read_csv('data/input/non_standardized_X_train.csv', index_col=0)\n",
    "y_train = pd.read_csv('data/input/y_log_train.csv', index_col=0)"
   ]
  },
  {
   "cell_type": "code",
   "execution_count": 3,
   "metadata": {},
   "outputs": [],
   "source": [
    "X_test = pd.read_csv('data/input/non_standardized_X_test.csv', index_col=0)"
   ]
  },
  {
   "cell_type": "code",
   "execution_count": 4,
   "metadata": {},
   "outputs": [],
   "source": [
    "np.random.seed(42)"
   ]
  },
  {
   "attachments": {},
   "cell_type": "markdown",
   "metadata": {},
   "source": [
    "### 10-fold Cross-Validation"
   ]
  },
  {
   "cell_type": "code",
   "execution_count": 5,
   "metadata": {},
   "outputs": [],
   "source": [
    "from sklearn.model_selection import KFold\n",
    "from sklearn.metrics import mean_squared_error"
   ]
  },
  {
   "cell_type": "code",
   "execution_count": 6,
   "metadata": {},
   "outputs": [],
   "source": [
    "def kfold_mse(X, y, model, k=10):\n",
    "    kf = KFold(n_splits=k)\n",
    "    mses = []\n",
    "    for i, (train_idx, val_idx) in enumerate(kf.split(X, y)):\n",
    "        X_train, X_val = X.iloc[train_idx], X.iloc[val_idx]\n",
    "        y_train, y_val = y.iloc[train_idx], y.iloc[val_idx]\n",
    "        model.fit(X_train, y_train['sales']) # Avoid deprecation warning\n",
    "        y_pred = model.predict(X_val)\n",
    "        mses.append(mean_squared_error(np.exp(y_pred), np.exp(y_val['sales'])))\n",
    "    return mses"
   ]
  },
  {
   "attachments": {},
   "cell_type": "markdown",
   "metadata": {},
   "source": [
    "For decision tree we shall concern tuning `ccp_alpha`, `max_depth` and `min_samples_leaf` in this project. `max_features`, `min_samples_split` are fixed to 'sqrt' and 0.01. "
   ]
  },
  {
   "cell_type": "code",
   "execution_count": 11,
   "metadata": {},
   "outputs": [],
   "source": [
    "ccp_alphas = [0.0, 0.01, 0.02, 0.05, 0.1]\n",
    "min_samples_leafs = [1, 3, 5, 10]\n",
    "max_depths = [None, 3, 5, 10]"
   ]
  },
  {
   "cell_type": "code",
   "execution_count": 8,
   "metadata": {},
   "outputs": [],
   "source": [
    "from sklearn.tree import DecisionTreeRegressor"
   ]
  },
  {
   "cell_type": "code",
   "execution_count": 12,
   "metadata": {},
   "outputs": [
    {
     "name": "stdout",
     "output_type": "stream",
     "text": [
      "ccp_alpha: 0.0, max_depth: None, min_samples_leaf: 1, avg_mse: 582.641392076291\n",
      "ccp_alpha: 0.0, max_depth: None, min_samples_leaf: 3, avg_mse: 529.4488506022003\n",
      "ccp_alpha: 0.0, max_depth: None, min_samples_leaf: 5, avg_mse: 532.8449508858971\n",
      "ccp_alpha: 0.0, max_depth: None, min_samples_leaf: 10, avg_mse: 536.2330264799557\n",
      "ccp_alpha: 0.0, max_depth: 3, min_samples_leaf: 1, avg_mse: 760.5995828163129\n",
      "ccp_alpha: 0.0, max_depth: 3, min_samples_leaf: 3, avg_mse: 760.8167050572296\n",
      "ccp_alpha: 0.0, max_depth: 3, min_samples_leaf: 5, avg_mse: 760.8219292251181\n",
      "ccp_alpha: 0.0, max_depth: 3, min_samples_leaf: 10, avg_mse: 759.0577385978467\n",
      "ccp_alpha: 0.0, max_depth: 5, min_samples_leaf: 1, avg_mse: 675.1867704176565\n",
      "ccp_alpha: 0.0, max_depth: 5, min_samples_leaf: 3, avg_mse: 689.9640106158282\n",
      "ccp_alpha: 0.0, max_depth: 5, min_samples_leaf: 5, avg_mse: 694.1699808907703\n",
      "ccp_alpha: 0.0, max_depth: 5, min_samples_leaf: 10, avg_mse: 715.4753494015393\n",
      "ccp_alpha: 0.0, max_depth: 10, min_samples_leaf: 1, avg_mse: 562.1795931365011\n",
      "ccp_alpha: 0.0, max_depth: 10, min_samples_leaf: 3, avg_mse: 619.3210465223129\n",
      "ccp_alpha: 0.0, max_depth: 10, min_samples_leaf: 5, avg_mse: 557.7744414649694\n",
      "ccp_alpha: 0.0, max_depth: 10, min_samples_leaf: 10, avg_mse: 597.5005752415852\n",
      "ccp_alpha: 0.01, max_depth: None, min_samples_leaf: 1, avg_mse: 560.3343663605432\n",
      "ccp_alpha: 0.01, max_depth: None, min_samples_leaf: 3, avg_mse: 617.2587584044386\n",
      "ccp_alpha: 0.01, max_depth: None, min_samples_leaf: 5, avg_mse: 579.2891237623655\n",
      "ccp_alpha: 0.01, max_depth: None, min_samples_leaf: 10, avg_mse: 603.8322967990908\n",
      "ccp_alpha: 0.01, max_depth: 3, min_samples_leaf: 1, avg_mse: 756.6373927560993\n",
      "ccp_alpha: 0.01, max_depth: 3, min_samples_leaf: 3, avg_mse: 756.6373927560993\n",
      "ccp_alpha: 0.01, max_depth: 3, min_samples_leaf: 5, avg_mse: 756.6373927560993\n",
      "ccp_alpha: 0.01, max_depth: 3, min_samples_leaf: 10, avg_mse: 756.6373927560993\n",
      "ccp_alpha: 0.01, max_depth: 5, min_samples_leaf: 1, avg_mse: 695.7429042666389\n",
      "ccp_alpha: 0.01, max_depth: 5, min_samples_leaf: 3, avg_mse: 695.4275392200599\n",
      "ccp_alpha: 0.01, max_depth: 5, min_samples_leaf: 5, avg_mse: 701.0440775612608\n",
      "ccp_alpha: 0.01, max_depth: 5, min_samples_leaf: 10, avg_mse: 720.0321206831287\n",
      "ccp_alpha: 0.01, max_depth: 10, min_samples_leaf: 1, avg_mse: 595.2744701435741\n",
      "ccp_alpha: 0.01, max_depth: 10, min_samples_leaf: 3, avg_mse: 643.6554276328723\n",
      "ccp_alpha: 0.01, max_depth: 10, min_samples_leaf: 5, avg_mse: 592.8201845270262\n",
      "ccp_alpha: 0.01, max_depth: 10, min_samples_leaf: 10, avg_mse: 626.5912986693318\n",
      "ccp_alpha: 0.02, max_depth: None, min_samples_leaf: 1, avg_mse: 603.4660439495481\n",
      "ccp_alpha: 0.02, max_depth: None, min_samples_leaf: 3, avg_mse: 643.9547171176642\n",
      "ccp_alpha: 0.02, max_depth: None, min_samples_leaf: 5, avg_mse: 619.6482067173331\n",
      "ccp_alpha: 0.02, max_depth: None, min_samples_leaf: 10, avg_mse: 628.3591620361656\n",
      "ccp_alpha: 0.02, max_depth: 3, min_samples_leaf: 1, avg_mse: 756.5071324086623\n",
      "ccp_alpha: 0.02, max_depth: 3, min_samples_leaf: 3, avg_mse: 756.5071324086623\n",
      "ccp_alpha: 0.02, max_depth: 3, min_samples_leaf: 5, avg_mse: 756.5071324086623\n",
      "ccp_alpha: 0.02, max_depth: 3, min_samples_leaf: 10, avg_mse: 756.5071324086623\n",
      "ccp_alpha: 0.02, max_depth: 5, min_samples_leaf: 1, avg_mse: 700.1565159291315\n",
      "ccp_alpha: 0.02, max_depth: 5, min_samples_leaf: 3, avg_mse: 700.1565159291315\n",
      "ccp_alpha: 0.02, max_depth: 5, min_samples_leaf: 5, avg_mse: 703.1604388149858\n",
      "ccp_alpha: 0.02, max_depth: 5, min_samples_leaf: 10, avg_mse: 724.4594515129653\n",
      "ccp_alpha: 0.02, max_depth: 10, min_samples_leaf: 1, avg_mse: 629.2065509172043\n",
      "ccp_alpha: 0.02, max_depth: 10, min_samples_leaf: 3, avg_mse: 653.9542920161787\n",
      "ccp_alpha: 0.02, max_depth: 10, min_samples_leaf: 5, avg_mse: 612.023811291632\n",
      "ccp_alpha: 0.02, max_depth: 10, min_samples_leaf: 10, avg_mse: 655.6483322227541\n",
      "ccp_alpha: 0.05, max_depth: None, min_samples_leaf: 1, avg_mse: 661.7783280687813\n",
      "ccp_alpha: 0.05, max_depth: None, min_samples_leaf: 3, avg_mse: 694.7629152127386\n",
      "ccp_alpha: 0.05, max_depth: None, min_samples_leaf: 5, avg_mse: 689.5536080504506\n",
      "ccp_alpha: 0.05, max_depth: None, min_samples_leaf: 10, avg_mse: 708.0591522952093\n",
      "ccp_alpha: 0.05, max_depth: 3, min_samples_leaf: 1, avg_mse: 757.3684199901072\n",
      "ccp_alpha: 0.05, max_depth: 3, min_samples_leaf: 3, avg_mse: 757.3684199901072\n",
      "ccp_alpha: 0.05, max_depth: 3, min_samples_leaf: 5, avg_mse: 757.3684199901072\n",
      "ccp_alpha: 0.05, max_depth: 3, min_samples_leaf: 10, avg_mse: 757.3684199901072\n",
      "ccp_alpha: 0.05, max_depth: 5, min_samples_leaf: 1, avg_mse: 700.3806685280331\n",
      "ccp_alpha: 0.05, max_depth: 5, min_samples_leaf: 3, avg_mse: 700.3806685280331\n",
      "ccp_alpha: 0.05, max_depth: 5, min_samples_leaf: 5, avg_mse: 704.3972259729085\n",
      "ccp_alpha: 0.05, max_depth: 5, min_samples_leaf: 10, avg_mse: 728.0842579679528\n",
      "ccp_alpha: 0.05, max_depth: 10, min_samples_leaf: 1, avg_mse: 662.0911349982506\n",
      "ccp_alpha: 0.05, max_depth: 10, min_samples_leaf: 3, avg_mse: 683.4078022582461\n",
      "ccp_alpha: 0.05, max_depth: 10, min_samples_leaf: 5, avg_mse: 648.7133250442566\n",
      "ccp_alpha: 0.05, max_depth: 10, min_samples_leaf: 10, avg_mse: 712.4004355513013\n",
      "ccp_alpha: 0.1, max_depth: None, min_samples_leaf: 1, avg_mse: 731.1204372755486\n",
      "ccp_alpha: 0.1, max_depth: None, min_samples_leaf: 3, avg_mse: 760.1455431915753\n",
      "ccp_alpha: 0.1, max_depth: None, min_samples_leaf: 5, avg_mse: 747.1189518924137\n",
      "ccp_alpha: 0.1, max_depth: None, min_samples_leaf: 10, avg_mse: 742.6894626429167\n",
      "ccp_alpha: 0.1, max_depth: 3, min_samples_leaf: 1, avg_mse: 757.3684199901072\n",
      "ccp_alpha: 0.1, max_depth: 3, min_samples_leaf: 3, avg_mse: 757.3684199901072\n",
      "ccp_alpha: 0.1, max_depth: 3, min_samples_leaf: 5, avg_mse: 757.3684199901072\n",
      "ccp_alpha: 0.1, max_depth: 3, min_samples_leaf: 10, avg_mse: 757.3684199901072\n",
      "ccp_alpha: 0.1, max_depth: 5, min_samples_leaf: 1, avg_mse: 715.6756193481814\n",
      "ccp_alpha: 0.1, max_depth: 5, min_samples_leaf: 3, avg_mse: 715.6756193481814\n",
      "ccp_alpha: 0.1, max_depth: 5, min_samples_leaf: 5, avg_mse: 719.692176793057\n",
      "ccp_alpha: 0.1, max_depth: 5, min_samples_leaf: 10, avg_mse: 757.608609398517\n",
      "ccp_alpha: 0.1, max_depth: 10, min_samples_leaf: 1, avg_mse: 762.0276423488531\n",
      "ccp_alpha: 0.1, max_depth: 10, min_samples_leaf: 3, avg_mse: 751.9186249981896\n",
      "ccp_alpha: 0.1, max_depth: 10, min_samples_leaf: 5, avg_mse: 712.35534944993\n",
      "ccp_alpha: 0.1, max_depth: 10, min_samples_leaf: 10, avg_mse: 759.3428081446308\n"
     ]
    }
   ],
   "source": [
    "best_mses = []\n",
    "best_avg_score = 1e9\n",
    "best_ccp_alpha = None\n",
    "best_depth = None\n",
    "best_min_samples_leaf = None\n",
    "for ccp_alpha in ccp_alphas:\n",
    "    for depth in max_depths:\n",
    "        for min_samples_leaf in min_samples_leafs:\n",
    "            model = DecisionTreeRegressor(ccp_alpha=ccp_alpha, max_depth=depth, min_samples_leaf=min_samples_leaf, random_state=42, min_samples_split=0.01, max_features='sqrt')\n",
    "            mses = kfold_mse(X_train, y_train, model)\n",
    "            if np.mean(mses) < best_avg_score:\n",
    "                best_avg_score = np.mean(mses)\n",
    "                best_ccp_alpha = ccp_alpha\n",
    "                best_depth = depth\n",
    "                best_min_samples_leaf = min_samples_leaf\n",
    "                best_mses = mses\n",
    "            print(f'ccp_alpha: {ccp_alpha}, max_depth: {depth}, min_samples_leaf: {min_samples_leaf}, avg_mse: {np.mean(mses)}')"
   ]
  },
  {
   "attachments": {},
   "cell_type": "markdown",
   "metadata": {},
   "source": [
    "### In-sample analysis"
   ]
  },
  {
   "cell_type": "code",
   "execution_count": 13,
   "metadata": {},
   "outputs": [
    {
     "name": "stdout",
     "output_type": "stream",
     "text": [
      "best ccp_alpha: 0.0, best max_depth: None, best min_samples_leaf: 3, best avg_mse: 529.4488506022003\n"
     ]
    }
   ],
   "source": [
    "print(f'best ccp_alpha: {best_ccp_alpha}, best max_depth: {best_depth}, best min_samples_leaf: {best_min_samples_leaf}, best avg_mse: {np.mean(best_mses)}')"
   ]
  },
  {
   "cell_type": "code",
   "execution_count": 14,
   "metadata": {},
   "outputs": [
    {
     "data": {
      "text/html": [
       "<div>\n",
       "<style scoped>\n",
       "    .dataframe tbody tr th:only-of-type {\n",
       "        vertical-align: middle;\n",
       "    }\n",
       "\n",
       "    .dataframe tbody tr th {\n",
       "        vertical-align: top;\n",
       "    }\n",
       "\n",
       "    .dataframe thead th {\n",
       "        text-align: right;\n",
       "    }\n",
       "</style>\n",
       "<table border=\"1\" class=\"dataframe\">\n",
       "  <thead>\n",
       "    <tr style=\"text-align: right;\">\n",
       "      <th></th>\n",
       "      <th>Cross-Validation MSE</th>\n",
       "    </tr>\n",
       "  </thead>\n",
       "  <tbody>\n",
       "    <tr>\n",
       "      <th>0</th>\n",
       "      <td>461.495418</td>\n",
       "    </tr>\n",
       "    <tr>\n",
       "      <th>1</th>\n",
       "      <td>408.030876</td>\n",
       "    </tr>\n",
       "    <tr>\n",
       "      <th>2</th>\n",
       "      <td>635.322117</td>\n",
       "    </tr>\n",
       "    <tr>\n",
       "      <th>3</th>\n",
       "      <td>444.929879</td>\n",
       "    </tr>\n",
       "    <tr>\n",
       "      <th>4</th>\n",
       "      <td>515.511622</td>\n",
       "    </tr>\n",
       "    <tr>\n",
       "      <th>5</th>\n",
       "      <td>212.891228</td>\n",
       "    </tr>\n",
       "    <tr>\n",
       "      <th>6</th>\n",
       "      <td>752.387121</td>\n",
       "    </tr>\n",
       "    <tr>\n",
       "      <th>7</th>\n",
       "      <td>535.975563</td>\n",
       "    </tr>\n",
       "    <tr>\n",
       "      <th>8</th>\n",
       "      <td>1108.258941</td>\n",
       "    </tr>\n",
       "    <tr>\n",
       "      <th>9</th>\n",
       "      <td>219.685740</td>\n",
       "    </tr>\n",
       "  </tbody>\n",
       "</table>\n",
       "</div>"
      ],
      "text/plain": [
       "   Cross-Validation MSE\n",
       "0            461.495418\n",
       "1            408.030876\n",
       "2            635.322117\n",
       "3            444.929879\n",
       "4            515.511622\n",
       "5            212.891228\n",
       "6            752.387121\n",
       "7            535.975563\n",
       "8           1108.258941\n",
       "9            219.685740"
      ]
     },
     "execution_count": 14,
     "metadata": {},
     "output_type": "execute_result"
    }
   ],
   "source": [
    "cv_df = pd.DataFrame(best_mses, columns=['Cross-Validation MSE'])\n",
    "cv_df"
   ]
  },
  {
   "cell_type": "code",
   "execution_count": 15,
   "metadata": {},
   "outputs": [],
   "source": [
    "cv_df.to_csv('data/output/cv/dt_log.csv')"
   ]
  }
 ],
 "metadata": {
  "kernelspec": {
   "display_name": "IE4211",
   "language": "python",
   "name": "python3"
  },
  "language_info": {
   "codemirror_mode": {
    "name": "ipython",
    "version": 3
   },
   "file_extension": ".py",
   "mimetype": "text/x-python",
   "name": "python",
   "nbconvert_exporter": "python",
   "pygments_lexer": "ipython3",
   "version": "3.9.13"
  },
  "orig_nbformat": 4
 },
 "nbformat": 4,
 "nbformat_minor": 2
}
