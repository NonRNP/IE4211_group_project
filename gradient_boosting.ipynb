{
 "cells": [
  {
   "cell_type": "code",
   "execution_count": 1,
   "metadata": {},
   "outputs": [],
   "source": [
    "import numpy as np\n",
    "import pandas as pd\n",
    "import matplotlib.pyplot as plt"
   ]
  },
  {
   "cell_type": "code",
   "execution_count": 2,
   "metadata": {},
   "outputs": [],
   "source": [
    "X_train = pd.read_csv('data/input/non_standardized_X_train.csv', index_col=0)\n",
    "y_train = pd.read_csv('data/input/y_train.csv', index_col=0)"
   ]
  },
  {
   "cell_type": "code",
   "execution_count": 3,
   "metadata": {},
   "outputs": [],
   "source": [
    "X_test = pd.read_csv('data/input/non_standardized_X_test.csv', index_col=0)"
   ]
  },
  {
   "cell_type": "code",
   "execution_count": 4,
   "metadata": {},
   "outputs": [],
   "source": [
    "np.random.seed(42)"
   ]
  },
  {
   "cell_type": "markdown",
   "metadata": {},
   "source": [
    "### 10-fold Cross-Validation"
   ]
  },
  {
   "cell_type": "code",
   "execution_count": 5,
   "metadata": {},
   "outputs": [],
   "source": [
    "from sklearn.model_selection import KFold\n",
    "from sklearn.metrics import mean_squared_error"
   ]
  },
  {
   "cell_type": "code",
   "execution_count": 6,
   "metadata": {},
   "outputs": [],
   "source": [
    "def kfold_mse(X, y, model, k=10):\n",
    "    kf = KFold(n_splits=k)\n",
    "    mses = []\n",
    "    for i, (train_idx, val_idx) in enumerate(kf.split(X, y)):\n",
    "        X_train, X_val = X.iloc[train_idx], X.iloc[val_idx]\n",
    "        y_train, y_val = y.iloc[train_idx], y.iloc[val_idx]\n",
    "        model.fit(X_train, y_train['sales']) # Avoid deprecation warning\n",
    "        y_pred = model.predict(X_val)\n",
    "        mses.append(mean_squared_error(y_pred, y_val['sales']))\n",
    "    return mses"
   ]
  },
  {
   "cell_type": "markdown",
   "metadata": {},
   "source": [
    "Gradient boosting have even more tunable parameters than random forest, therefore we shall concern only `learning_rate`, `max_depth` and `min_samples_leaf` in this project. `n_estimators`, `max_features`, `min_samples_split` are fixed to 1000, 'sqrt' and 0.01. Since boosting is robust to overfitting, we can use as many estimators as computationally feasible."
   ]
  },
  {
   "cell_type": "code",
   "execution_count": 7,
   "metadata": {},
   "outputs": [],
   "source": [
    "learning_rates = [0.01, 0.1, 0.5, 1]\n",
    "max_depths = [None, 3, 5, 10]\n",
    "min_samples_leaf = [1, 3, 5, 10, 20]"
   ]
  },
  {
   "cell_type": "code",
   "execution_count": 8,
   "metadata": {},
   "outputs": [],
   "source": [
    "from sklearn.ensemble import GradientBoostingRegressor"
   ]
  },
  {
   "cell_type": "code",
   "execution_count": 9,
   "metadata": {},
   "outputs": [
    {
     "name": "stdout",
     "output_type": "stream",
     "text": [
      "lr: 0.01, max_depth: None, min_samples_leaf: 1, avg_mse: 275.2030500192398\n",
      "lr: 0.01, max_depth: None, min_samples_leaf: 3, avg_mse: 263.77721924904796\n",
      "lr: 0.01, max_depth: None, min_samples_leaf: 5, avg_mse: 264.1719997036224\n",
      "lr: 0.01, max_depth: None, min_samples_leaf: 10, avg_mse: 266.3335800410521\n",
      "lr: 0.01, max_depth: None, min_samples_leaf: 20, avg_mse: 278.5520398753606\n",
      "lr: 0.01, max_depth: 3, min_samples_leaf: 1, avg_mse: 345.195856634741\n",
      "lr: 0.01, max_depth: 3, min_samples_leaf: 3, avg_mse: 339.4460841823976\n",
      "lr: 0.01, max_depth: 3, min_samples_leaf: 5, avg_mse: 333.2997486386174\n",
      "lr: 0.01, max_depth: 3, min_samples_leaf: 10, avg_mse: 333.2128135886446\n",
      "lr: 0.01, max_depth: 3, min_samples_leaf: 20, avg_mse: 338.0234141097749\n",
      "lr: 0.01, max_depth: 5, min_samples_leaf: 1, avg_mse: 288.7965775409493\n",
      "lr: 0.01, max_depth: 5, min_samples_leaf: 3, avg_mse: 293.53118680463535\n",
      "lr: 0.01, max_depth: 5, min_samples_leaf: 5, avg_mse: 290.85427861329083\n",
      "lr: 0.01, max_depth: 5, min_samples_leaf: 10, avg_mse: 296.1250933477955\n",
      "lr: 0.01, max_depth: 5, min_samples_leaf: 20, avg_mse: 306.03082831009567\n",
      "lr: 0.01, max_depth: 10, min_samples_leaf: 1, avg_mse: 264.45701800501683\n",
      "lr: 0.01, max_depth: 10, min_samples_leaf: 3, avg_mse: 268.2180211913504\n",
      "lr: 0.01, max_depth: 10, min_samples_leaf: 5, avg_mse: 266.59261699880466\n",
      "lr: 0.01, max_depth: 10, min_samples_leaf: 10, avg_mse: 266.6932036290121\n",
      "lr: 0.01, max_depth: 10, min_samples_leaf: 20, avg_mse: 277.53274710247103\n",
      "lr: 0.1, max_depth: None, min_samples_leaf: 1, avg_mse: 277.82236500119745\n",
      "lr: 0.1, max_depth: None, min_samples_leaf: 3, avg_mse: 281.38849571799784\n",
      "lr: 0.1, max_depth: None, min_samples_leaf: 5, avg_mse: 266.93830851055475\n",
      "lr: 0.1, max_depth: None, min_samples_leaf: 10, avg_mse: 266.0998757348151\n",
      "lr: 0.1, max_depth: None, min_samples_leaf: 20, avg_mse: 284.9844291550142\n",
      "lr: 0.1, max_depth: 3, min_samples_leaf: 1, avg_mse: 275.3584554132232\n",
      "lr: 0.1, max_depth: 3, min_samples_leaf: 3, avg_mse: 270.7800375810597\n",
      "lr: 0.1, max_depth: 3, min_samples_leaf: 5, avg_mse: 261.58797112427123\n",
      "lr: 0.1, max_depth: 3, min_samples_leaf: 10, avg_mse: 270.5779158760903\n",
      "lr: 0.1, max_depth: 3, min_samples_leaf: 20, avg_mse: 272.23010160479475\n",
      "lr: 0.1, max_depth: 5, min_samples_leaf: 1, avg_mse: 264.1075348012218\n",
      "lr: 0.1, max_depth: 5, min_samples_leaf: 3, avg_mse: 258.4015035659303\n",
      "lr: 0.1, max_depth: 5, min_samples_leaf: 5, avg_mse: 252.2299183836407\n",
      "lr: 0.1, max_depth: 5, min_samples_leaf: 10, avg_mse: 266.7273066748059\n",
      "lr: 0.1, max_depth: 5, min_samples_leaf: 20, avg_mse: 286.2949857198318\n",
      "lr: 0.1, max_depth: 10, min_samples_leaf: 1, avg_mse: 259.6133497295818\n",
      "lr: 0.1, max_depth: 10, min_samples_leaf: 3, avg_mse: 273.735316617651\n",
      "lr: 0.1, max_depth: 10, min_samples_leaf: 5, avg_mse: 261.2024848234265\n",
      "lr: 0.1, max_depth: 10, min_samples_leaf: 10, avg_mse: 277.43622487522197\n",
      "lr: 0.1, max_depth: 10, min_samples_leaf: 20, avg_mse: 280.08356475319954\n",
      "lr: 0.5, max_depth: None, min_samples_leaf: 1, avg_mse: 430.7672215187632\n",
      "lr: 0.5, max_depth: None, min_samples_leaf: 3, avg_mse: 388.4283673173585\n",
      "lr: 0.5, max_depth: None, min_samples_leaf: 5, avg_mse: 418.5102624015303\n",
      "lr: 0.5, max_depth: None, min_samples_leaf: 10, avg_mse: 385.5516514955628\n",
      "lr: 0.5, max_depth: None, min_samples_leaf: 20, avg_mse: 382.72407180940024\n",
      "lr: 0.5, max_depth: 3, min_samples_leaf: 1, avg_mse: 348.787383909608\n",
      "lr: 0.5, max_depth: 3, min_samples_leaf: 3, avg_mse: 323.40300072299334\n",
      "lr: 0.5, max_depth: 3, min_samples_leaf: 5, avg_mse: 325.78914806107815\n",
      "lr: 0.5, max_depth: 3, min_samples_leaf: 10, avg_mse: 305.97949188484836\n",
      "lr: 0.5, max_depth: 3, min_samples_leaf: 20, avg_mse: 326.4141479662202\n",
      "lr: 0.5, max_depth: 5, min_samples_leaf: 1, avg_mse: 345.16471822077267\n",
      "lr: 0.5, max_depth: 5, min_samples_leaf: 3, avg_mse: 325.81229717162694\n",
      "lr: 0.5, max_depth: 5, min_samples_leaf: 5, avg_mse: 344.40030172221077\n",
      "lr: 0.5, max_depth: 5, min_samples_leaf: 10, avg_mse: 342.0881521026741\n",
      "lr: 0.5, max_depth: 5, min_samples_leaf: 20, avg_mse: 343.803722728424\n",
      "lr: 0.5, max_depth: 10, min_samples_leaf: 1, avg_mse: 397.25677461714605\n",
      "lr: 0.5, max_depth: 10, min_samples_leaf: 3, avg_mse: 369.8922974861325\n",
      "lr: 0.5, max_depth: 10, min_samples_leaf: 5, avg_mse: 373.438557136605\n",
      "lr: 0.5, max_depth: 10, min_samples_leaf: 10, avg_mse: 377.99694146653474\n",
      "lr: 0.5, max_depth: 10, min_samples_leaf: 20, avg_mse: 351.5295627970563\n",
      "lr: 1, max_depth: None, min_samples_leaf: 1, avg_mse: 659.7936960491577\n",
      "lr: 1, max_depth: None, min_samples_leaf: 3, avg_mse: 698.5024128209491\n",
      "lr: 1, max_depth: None, min_samples_leaf: 5, avg_mse: 681.2317139784038\n",
      "lr: 1, max_depth: None, min_samples_leaf: 10, avg_mse: 673.1583254910228\n",
      "lr: 1, max_depth: None, min_samples_leaf: 20, avg_mse: 615.9269956045821\n",
      "lr: 1, max_depth: 3, min_samples_leaf: 1, avg_mse: 493.3456473592449\n",
      "lr: 1, max_depth: 3, min_samples_leaf: 3, avg_mse: 454.6732885776649\n",
      "lr: 1, max_depth: 3, min_samples_leaf: 5, avg_mse: 459.7346598363283\n",
      "lr: 1, max_depth: 3, min_samples_leaf: 10, avg_mse: 387.6339904021761\n",
      "lr: 1, max_depth: 3, min_samples_leaf: 20, avg_mse: 427.00966310266966\n",
      "lr: 1, max_depth: 5, min_samples_leaf: 1, avg_mse: 532.8961318774893\n",
      "lr: 1, max_depth: 5, min_samples_leaf: 3, avg_mse: 549.0577512364503\n",
      "lr: 1, max_depth: 5, min_samples_leaf: 5, avg_mse: 534.9342398438564\n",
      "lr: 1, max_depth: 5, min_samples_leaf: 10, avg_mse: 524.9175203767757\n",
      "lr: 1, max_depth: 5, min_samples_leaf: 20, avg_mse: 475.31502289647534\n",
      "lr: 1, max_depth: 10, min_samples_leaf: 1, avg_mse: 683.4485154579224\n",
      "lr: 1, max_depth: 10, min_samples_leaf: 3, avg_mse: 605.8893952622003\n",
      "lr: 1, max_depth: 10, min_samples_leaf: 5, avg_mse: 592.6048952078374\n",
      "lr: 1, max_depth: 10, min_samples_leaf: 10, avg_mse: 628.2052619727617\n",
      "lr: 1, max_depth: 10, min_samples_leaf: 20, avg_mse: 587.7359711962633\n"
     ]
    }
   ],
   "source": [
    "best_mses = []\n",
    "best_avg_score = 1e9\n",
    "best_lr = None\n",
    "best_depth = None\n",
    "best_msl = None\n",
    "for lr in learning_rates:\n",
    "    for depth in max_depths:\n",
    "        for ml in min_samples_leaf:\n",
    "            model = GradientBoostingRegressor(min_samples_leaf=ml, min_samples_split=0.01, n_estimators=1000, max_features='sqrt', random_state=42, learning_rate=lr, max_depth=depth)\n",
    "            mses = kfold_mse(X_train, y_train, model)\n",
    "            if np.mean(mses) < best_avg_score:\n",
    "                best_avg_score = np.mean(mses)\n",
    "                best_lr = lr\n",
    "                best_depth = depth\n",
    "                best_msl = ml\n",
    "                best_mses = mses\n",
    "            print(f'lr: {lr}, max_depth: {depth}, min_samples_leaf: {ml}, avg_mse: {np.mean(mses)}')"
   ]
  },
  {
   "cell_type": "markdown",
   "metadata": {},
   "source": [
    "### In-sample analysis"
   ]
  },
  {
   "cell_type": "code",
   "execution_count": 10,
   "metadata": {},
   "outputs": [
    {
     "name": "stdout",
     "output_type": "stream",
     "text": [
      "best lr: 0.1, best max_depth: 5, best min_samples_leaf: 5, best avg_mse: 252.2299183836407\n"
     ]
    }
   ],
   "source": [
    "print(f'best lr: {best_lr}, best max_depth: {best_depth}, best min_samples_leaf: {best_msl}, best avg_mse: {np.mean(best_mses)}')"
   ]
  },
  {
   "cell_type": "code",
   "execution_count": 11,
   "metadata": {},
   "outputs": [
    {
     "data": {
      "text/html": [
       "<div>\n",
       "<style scoped>\n",
       "    .dataframe tbody tr th:only-of-type {\n",
       "        vertical-align: middle;\n",
       "    }\n",
       "\n",
       "    .dataframe tbody tr th {\n",
       "        vertical-align: top;\n",
       "    }\n",
       "\n",
       "    .dataframe thead th {\n",
       "        text-align: right;\n",
       "    }\n",
       "</style>\n",
       "<table border=\"1\" class=\"dataframe\">\n",
       "  <thead>\n",
       "    <tr style=\"text-align: right;\">\n",
       "      <th></th>\n",
       "      <th>Cross-Validation MSE</th>\n",
       "    </tr>\n",
       "  </thead>\n",
       "  <tbody>\n",
       "    <tr>\n",
       "      <th>0</th>\n",
       "      <td>147.149551</td>\n",
       "    </tr>\n",
       "    <tr>\n",
       "      <th>1</th>\n",
       "      <td>168.336928</td>\n",
       "    </tr>\n",
       "    <tr>\n",
       "      <th>2</th>\n",
       "      <td>288.410559</td>\n",
       "    </tr>\n",
       "    <tr>\n",
       "      <th>3</th>\n",
       "      <td>214.791919</td>\n",
       "    </tr>\n",
       "    <tr>\n",
       "      <th>4</th>\n",
       "      <td>203.176895</td>\n",
       "    </tr>\n",
       "    <tr>\n",
       "      <th>5</th>\n",
       "      <td>112.132650</td>\n",
       "    </tr>\n",
       "    <tr>\n",
       "      <th>6</th>\n",
       "      <td>317.047179</td>\n",
       "    </tr>\n",
       "    <tr>\n",
       "      <th>7</th>\n",
       "      <td>160.066377</td>\n",
       "    </tr>\n",
       "    <tr>\n",
       "      <th>8</th>\n",
       "      <td>696.819174</td>\n",
       "    </tr>\n",
       "    <tr>\n",
       "      <th>9</th>\n",
       "      <td>214.367952</td>\n",
       "    </tr>\n",
       "  </tbody>\n",
       "</table>\n",
       "</div>"
      ],
      "text/plain": [
       "   Cross-Validation MSE\n",
       "0            147.149551\n",
       "1            168.336928\n",
       "2            288.410559\n",
       "3            214.791919\n",
       "4            203.176895\n",
       "5            112.132650\n",
       "6            317.047179\n",
       "7            160.066377\n",
       "8            696.819174\n",
       "9            214.367952"
      ]
     },
     "execution_count": 11,
     "metadata": {},
     "output_type": "execute_result"
    }
   ],
   "source": [
    "cv_df = pd.DataFrame(best_mses, columns=['Cross-Validation MSE'])\n",
    "cv_df"
   ]
  },
  {
   "cell_type": "code",
   "execution_count": 12,
   "metadata": {},
   "outputs": [],
   "source": [
    "cv_df.to_csv('data/output/cv/gbr.csv')"
   ]
  },
  {
   "cell_type": "markdown",
   "metadata": {},
   "source": [
    "### Model fitting\n",
    "\n",
    "After finding best parameters (not applicable to LR but useful for other models), we fit the model on the entire training set and predict on the test set. Also, we collect residuals to prepare for inventory decision making."
   ]
  },
  {
   "cell_type": "code",
   "execution_count": 13,
   "metadata": {},
   "outputs": [],
   "source": [
    "gbr = GradientBoostingRegressor(min_samples_leaf=best_msl, min_samples_split=0.01, n_estimators=1000, max_features='sqrt', random_state=42, learning_rate=best_lr, max_depth=best_depth)\n",
    "gbr.fit(X_train, y_train['sales']) # Avoid deprecation warning\n",
    "residuals = y_train['sales'] - gbr.predict(X_train)"
   ]
  },
  {
   "cell_type": "code",
   "execution_count": 14,
   "metadata": {},
   "outputs": [],
   "source": [
    "output_df = X_test.copy()"
   ]
  },
  {
   "cell_type": "code",
   "execution_count": 15,
   "metadata": {},
   "outputs": [],
   "source": [
    "output_df['sales'] = gbr.predict(X_test)"
   ]
  },
  {
   "cell_type": "markdown",
   "metadata": {},
   "source": [
    "### Inventory decision\n",
    "As sales data come from a natural process, we shall not assume it is distributed in any particular model. Hence, we shall use an empirical distribution to make our inventory decision. "
   ]
  },
  {
   "cell_type": "code",
   "execution_count": 16,
   "metadata": {},
   "outputs": [
    {
     "data": {
      "text/plain": [
       "count    2.211000e+03\n",
       "mean     1.695212e-16\n",
       "std      2.131703e+00\n",
       "min     -1.077202e+01\n",
       "25%     -1.070170e+00\n",
       "50%     -6.455028e-02\n",
       "75%      1.001918e+00\n",
       "max      2.335370e+01\n",
       "Name: sales, dtype: float64"
      ]
     },
     "execution_count": 16,
     "metadata": {},
     "output_type": "execute_result"
    }
   ],
   "source": [
    "residuals.describe()"
   ]
  },
  {
   "cell_type": "markdown",
   "metadata": {},
   "source": [
    "For visualization of Empirical CDF, we use the `statsmodels` package:"
   ]
  },
  {
   "cell_type": "code",
   "execution_count": 17,
   "metadata": {},
   "outputs": [],
   "source": [
    "from statsmodels.distributions.empirical_distribution import ECDF"
   ]
  },
  {
   "cell_type": "code",
   "execution_count": 18,
   "metadata": {},
   "outputs": [],
   "source": [
    "ecdf = ECDF(residuals)"
   ]
  },
  {
   "cell_type": "code",
   "execution_count": 19,
   "metadata": {},
   "outputs": [
    {
     "data": {
      "image/png": "[encoded data removed]",
      "text/plain": [
       "<Figure size 640x480 with 1 Axes>"
      ]
     },
     "metadata": {},
     "output_type": "display_data"
    }
   ],
   "source": [
    "plt.plot(ecdf.x, ecdf.y)\n",
    "plt.xlim(-10, 10)\n",
    "plt.show()"
   ]
  },
  {
   "cell_type": "markdown",
   "metadata": {},
   "source": [
    "Sparsity is not a concern since we have a large sample size. Therefore, we can use interpolation to obtain ppf. To get the empirical ppf, we can use scipy's `interp1d` to get the inverse function:"
   ]
  },
  {
   "cell_type": "code",
   "execution_count": 20,
   "metadata": {},
   "outputs": [],
   "source": [
    "from scipy.interpolate import interp1d"
   ]
  },
  {
   "cell_type": "code",
   "execution_count": 21,
   "metadata": {},
   "outputs": [],
   "source": [
    "eppf = interp1d(ecdf.y, ecdf.x)"
   ]
  },
  {
   "cell_type": "markdown",
   "metadata": {},
   "source": [
    "Calculate the critical fractile"
   ]
  },
  {
   "cell_type": "code",
   "execution_count": 22,
   "metadata": {},
   "outputs": [
    {
     "data": {
      "text/plain": [
       "0.6666666666666666"
      ]
     },
     "execution_count": 22,
     "metadata": {},
     "output_type": "execute_result"
    }
   ],
   "source": [
    "price = 20\n",
    "cost = 12\n",
    "salvage = 8\n",
    "over = cost - salvage\n",
    "under = price - cost\n",
    "critical_fractile = under / (over + under)\n",
    "critical_fractile"
   ]
  },
  {
   "cell_type": "markdown",
   "metadata": {},
   "source": [
    "We offset our predictions for the test datasets by the $eppf(critical\\_fractile)$ to get the optimal inventory level."
   ]
  },
  {
   "cell_type": "code",
   "execution_count": 23,
   "metadata": {},
   "outputs": [],
   "source": [
    "output_df['inventory'] = eppf(critical_fractile) + output_df['sales']"
   ]
  },
  {
   "cell_type": "code",
   "execution_count": 24,
   "metadata": {},
   "outputs": [
    {
     "data": {
      "text/html": [
       "<div>\n",
       "<style scoped>\n",
       "    .dataframe tbody tr th:only-of-type {\n",
       "        vertical-align: middle;\n",
       "    }\n",
       "\n",
       "    .dataframe tbody tr th {\n",
       "        vertical-align: top;\n",
       "    }\n",
       "\n",
       "    .dataframe thead th {\n",
       "        text-align: right;\n",
       "    }\n",
       "</style>\n",
       "<table border=\"1\" class=\"dataframe\">\n",
       "  <thead>\n",
       "    <tr style=\"text-align: right;\">\n",
       "      <th></th>\n",
       "      <th>sales</th>\n",
       "      <th>inventory</th>\n",
       "    </tr>\n",
       "  </thead>\n",
       "  <tbody>\n",
       "    <tr>\n",
       "      <th>0</th>\n",
       "      <td>36.281540</td>\n",
       "      <td>36.888580</td>\n",
       "    </tr>\n",
       "    <tr>\n",
       "      <th>1</th>\n",
       "      <td>75.774899</td>\n",
       "      <td>76.381939</td>\n",
       "    </tr>\n",
       "    <tr>\n",
       "      <th>2</th>\n",
       "      <td>5.497576</td>\n",
       "      <td>6.104616</td>\n",
       "    </tr>\n",
       "    <tr>\n",
       "      <th>3</th>\n",
       "      <td>29.768925</td>\n",
       "      <td>30.375965</td>\n",
       "    </tr>\n",
       "    <tr>\n",
       "      <th>4</th>\n",
       "      <td>12.136878</td>\n",
       "      <td>12.743918</td>\n",
       "    </tr>\n",
       "  </tbody>\n",
       "</table>\n",
       "</div>"
      ],
      "text/plain": [
       "       sales  inventory\n",
       "0  36.281540  36.888580\n",
       "1  75.774899  76.381939\n",
       "2   5.497576   6.104616\n",
       "3  29.768925  30.375965\n",
       "4  12.136878  12.743918"
      ]
     },
     "execution_count": 24,
     "metadata": {},
     "output_type": "execute_result"
    }
   ],
   "source": [
    "output_df[['sales', 'inventory']].head()"
   ]
  },
  {
   "cell_type": "code",
   "execution_count": 25,
   "metadata": {},
   "outputs": [],
   "source": [
    "output_df.to_csv('data/output/predictions/gbr.csv')"
   ]
  },
  {
   "cell_type": "code",
   "execution_count": null,
   "metadata": {},
   "outputs": [],
   "source": []
  }
 ],
 "metadata": {
  "kernelspec": {
   "display_name": "Python 3 (ipykernel)",
   "language": "python",
   "name": "python3"
  },
  "language_info": {
   "codemirror_mode": {
    "name": "ipython",
    "version": 3
   },
   "file_extension": ".py",
   "mimetype": "text/x-python",
   "name": "python",
   "nbconvert_exporter": "python",
   "pygments_lexer": "ipython3",
   "version": "3.9.13"
  }
 },
 "nbformat": 4,
 "nbformat_minor": 4
}
