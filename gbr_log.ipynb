{
 "cells": [
  {
   "cell_type": "code",
   "execution_count": 1,
   "metadata": {},
   "outputs": [],
   "source": [
    "import numpy as np\n",
    "import pandas as pd\n",
    "import matplotlib.pyplot as plt"
   ]
  },
  {
   "cell_type": "code",
   "execution_count": 2,
   "metadata": {},
   "outputs": [],
   "source": [
    "X_train = pd.read_csv('data/input/non_standardized_X_train.csv', index_col=0)\n",
    "y_train = pd.read_csv('data/input/y_log_train.csv', index_col=0)"
   ]
  },
  {
   "cell_type": "code",
   "execution_count": 3,
   "metadata": {},
   "outputs": [],
   "source": [
    "X_test = pd.read_csv('data/input/non_standardized_X_test.csv', index_col=0)"
   ]
  },
  {
   "cell_type": "code",
   "execution_count": 4,
   "metadata": {},
   "outputs": [],
   "source": [
    "np.random.seed(42)"
   ]
  },
  {
   "attachments": {},
   "cell_type": "markdown",
   "metadata": {},
   "source": [
    "### 10-fold Cross-Validation"
   ]
  },
  {
   "cell_type": "code",
   "execution_count": 5,
   "metadata": {},
   "outputs": [],
   "source": [
    "from sklearn.model_selection import KFold\n",
    "from sklearn.metrics import mean_squared_error"
   ]
  },
  {
   "cell_type": "code",
   "execution_count": 6,
   "metadata": {},
   "outputs": [],
   "source": [
    "def kfold_mse(X, y, model, k=10):\n",
    "    kf = KFold(n_splits=k)\n",
    "    mses = []\n",
    "    for i, (train_idx, val_idx) in enumerate(kf.split(X, y)):\n",
    "        X_train, X_val = X.iloc[train_idx], X.iloc[val_idx]\n",
    "        y_train, y_val = y.iloc[train_idx], y.iloc[val_idx]\n",
    "        model.fit(X_train, y_train['sales']) # Avoid deprecation warning\n",
    "        y_pred = model.predict(X_val)\n",
    "        mses.append(mean_squared_error(np.exp(y_pred), np.exp(y_val['sales'])))\n",
    "    return mses"
   ]
  },
  {
   "attachments": {},
   "cell_type": "markdown",
   "metadata": {},
   "source": [
    "Gradient boosting have even more tunable parameters than random forest, therefore we shall concern only `learning_rate` and `max_depth` in this project. `n_estimators`, `max_features`, `min_samples_split` are fixed to 1000, 'sqrt' and 0.01. Since boosting is robust to overfitting, we can use as many estimators as computationally feasible."
   ]
  },
  {
   "cell_type": "code",
   "execution_count": 7,
   "metadata": {},
   "outputs": [],
   "source": [
    "learning_rates = [0.01, 0.1, 0.5, 1]\n",
    "max_depths = [None, 3, 5, 10]\n",
    "min_samples_leafs = [1, 3, 5, 10]"
   ]
  },
  {
   "cell_type": "code",
   "execution_count": 8,
   "metadata": {},
   "outputs": [],
   "source": [
    "from sklearn.ensemble import GradientBoostingRegressor"
   ]
  },
  {
   "cell_type": "code",
   "execution_count": 9,
   "metadata": {},
   "outputs": [
    {
     "name": "stdout",
     "output_type": "stream",
     "text": [
      "lr: 0.01, max_depth: None, min_samples_leaf: 1, avg_mse: 323.1870080543094\n",
      "lr: 0.01, max_depth: None, min_samples_leaf: 3, avg_mse: 298.96337252306313\n",
      "lr: 0.01, max_depth: None, min_samples_leaf: 5, avg_mse: 297.39655719089626\n",
      "lr: 0.01, max_depth: None, min_samples_leaf: 10, avg_mse: 285.84276754681474\n",
      "lr: 0.01, max_depth: 3, min_samples_leaf: 1, avg_mse: 398.45692375512573\n",
      "lr: 0.01, max_depth: 3, min_samples_leaf: 3, avg_mse: 394.4754014580629\n",
      "lr: 0.01, max_depth: 3, min_samples_leaf: 5, avg_mse: 393.21799456122886\n",
      "lr: 0.01, max_depth: 3, min_samples_leaf: 10, avg_mse: 394.5661960561368\n",
      "lr: 0.01, max_depth: 5, min_samples_leaf: 1, avg_mse: 331.7722639292242\n",
      "lr: 0.01, max_depth: 5, min_samples_leaf: 3, avg_mse: 325.2723113538419\n",
      "lr: 0.01, max_depth: 5, min_samples_leaf: 5, avg_mse: 326.3387935166943\n",
      "lr: 0.01, max_depth: 5, min_samples_leaf: 10, avg_mse: 328.90009861828065\n",
      "lr: 0.01, max_depth: 10, min_samples_leaf: 1, avg_mse: 294.0796158180413\n",
      "lr: 0.01, max_depth: 10, min_samples_leaf: 3, avg_mse: 280.63549789838515\n",
      "lr: 0.01, max_depth: 10, min_samples_leaf: 5, avg_mse: 284.8233418642758\n",
      "lr: 0.01, max_depth: 10, min_samples_leaf: 10, avg_mse: 285.59711203946773\n",
      "lr: 0.1, max_depth: None, min_samples_leaf: 1, avg_mse: 326.25985047000944\n",
      "lr: 0.1, max_depth: None, min_samples_leaf: 3, avg_mse: 299.3330235872685\n",
      "lr: 0.1, max_depth: None, min_samples_leaf: 5, avg_mse: 294.285856514771\n",
      "lr: 0.1, max_depth: None, min_samples_leaf: 10, avg_mse: 297.7264823626316\n",
      "lr: 0.1, max_depth: 3, min_samples_leaf: 1, avg_mse: 264.9516844114877\n",
      "lr: 0.1, max_depth: 3, min_samples_leaf: 3, avg_mse: 258.79520846185636\n",
      "lr: 0.1, max_depth: 3, min_samples_leaf: 5, avg_mse: 251.9454004758558\n",
      "lr: 0.1, max_depth: 3, min_samples_leaf: 10, avg_mse: 257.63292507258075\n",
      "lr: 0.1, max_depth: 5, min_samples_leaf: 1, avg_mse: 258.0014099419528\n",
      "lr: 0.1, max_depth: 5, min_samples_leaf: 3, avg_mse: 252.25862299628602\n",
      "lr: 0.1, max_depth: 5, min_samples_leaf: 5, avg_mse: 253.54863264972732\n",
      "lr: 0.1, max_depth: 5, min_samples_leaf: 10, avg_mse: 245.06471090277887\n",
      "lr: 0.1, max_depth: 10, min_samples_leaf: 1, avg_mse: 282.1446829141696\n",
      "lr: 0.1, max_depth: 10, min_samples_leaf: 3, avg_mse: 289.98661191801295\n",
      "lr: 0.1, max_depth: 10, min_samples_leaf: 5, avg_mse: 263.9305950089823\n",
      "lr: 0.1, max_depth: 10, min_samples_leaf: 10, avg_mse: 269.4080319172341\n",
      "lr: 0.5, max_depth: None, min_samples_leaf: 1, avg_mse: 354.4716400975657\n",
      "lr: 0.5, max_depth: None, min_samples_leaf: 3, avg_mse: 361.4975402223519\n",
      "lr: 0.5, max_depth: None, min_samples_leaf: 5, avg_mse: 355.7774082121177\n",
      "lr: 0.5, max_depth: None, min_samples_leaf: 10, avg_mse: 351.7120488031575\n",
      "lr: 0.5, max_depth: 3, min_samples_leaf: 1, avg_mse: 267.20948977282336\n",
      "lr: 0.5, max_depth: 3, min_samples_leaf: 3, avg_mse: 268.86369481283765\n",
      "lr: 0.5, max_depth: 3, min_samples_leaf: 5, avg_mse: 270.77114354803246\n",
      "lr: 0.5, max_depth: 3, min_samples_leaf: 10, avg_mse: 279.56621062593933\n",
      "lr: 0.5, max_depth: 5, min_samples_leaf: 1, avg_mse: 306.35049744292354\n",
      "lr: 0.5, max_depth: 5, min_samples_leaf: 3, avg_mse: 276.678102682715\n",
      "lr: 0.5, max_depth: 5, min_samples_leaf: 5, avg_mse: 280.4788779898282\n",
      "lr: 0.5, max_depth: 5, min_samples_leaf: 10, avg_mse: 306.55315230759703\n",
      "lr: 0.5, max_depth: 10, min_samples_leaf: 1, avg_mse: 322.98594367040374\n",
      "lr: 0.5, max_depth: 10, min_samples_leaf: 3, avg_mse: 349.1408045026338\n",
      "lr: 0.5, max_depth: 10, min_samples_leaf: 5, avg_mse: 330.4600903968868\n",
      "lr: 0.5, max_depth: 10, min_samples_leaf: 10, avg_mse: 329.21345032427826\n",
      "lr: 1, max_depth: None, min_samples_leaf: 1, avg_mse: 909.1653928409283\n",
      "lr: 1, max_depth: None, min_samples_leaf: 3, avg_mse: 923.9790914534722\n",
      "lr: 1, max_depth: None, min_samples_leaf: 5, avg_mse: 858.1128975788597\n",
      "lr: 1, max_depth: None, min_samples_leaf: 10, avg_mse: 693.8278462155198\n",
      "lr: 1, max_depth: 3, min_samples_leaf: 1, avg_mse: 2417.15684332923\n",
      "lr: 1, max_depth: 3, min_samples_leaf: 3, avg_mse: 373.2158600634276\n",
      "lr: 1, max_depth: 3, min_samples_leaf: 5, avg_mse: 354.2874164208406\n",
      "lr: 1, max_depth: 3, min_samples_leaf: 10, avg_mse: 363.5611337012089\n",
      "lr: 1, max_depth: 5, min_samples_leaf: 1, avg_mse: 535.6104880559359\n",
      "lr: 1, max_depth: 5, min_samples_leaf: 3, avg_mse: 674.1190966498405\n",
      "lr: 1, max_depth: 5, min_samples_leaf: 5, avg_mse: 513.9086632073615\n",
      "lr: 1, max_depth: 5, min_samples_leaf: 10, avg_mse: 474.8429587618378\n",
      "lr: 1, max_depth: 10, min_samples_leaf: 1, avg_mse: 837.6116750532854\n",
      "lr: 1, max_depth: 10, min_samples_leaf: 3, avg_mse: 642.9191391977549\n",
      "lr: 1, max_depth: 10, min_samples_leaf: 5, avg_mse: 745.6503320605027\n",
      "lr: 1, max_depth: 10, min_samples_leaf: 10, avg_mse: 666.061368621879\n"
     ]
    }
   ],
   "source": [
    "best_mses = []\n",
    "best_avg_score = 1e9\n",
    "best_lr = None\n",
    "best_depth = None\n",
    "best_msl = None\n",
    "for lr in learning_rates:\n",
    "    for depth in max_depths:\n",
    "        for min_samples_leaf in min_samples_leafs:\n",
    "            model = GradientBoostingRegressor(min_samples_leaf=min_samples_leaf, min_samples_split=0.01, n_estimators=1000, max_features='sqrt', random_state=42, learning_rate=lr, max_depth=depth)\n",
    "            mses = kfold_mse(X_train, y_train, model)\n",
    "            if np.mean(mses) < best_avg_score:\n",
    "                best_avg_score = np.mean(mses)\n",
    "                best_lr = lr\n",
    "                best_depth = depth\n",
    "                best_msl = min_samples_leaf\n",
    "                best_mses = mses\n",
    "            print(f'lr: {lr}, max_depth: {depth}, min_samples_leaf: {min_samples_leaf}, avg_mse: {np.mean(mses)}')"
   ]
  },
  {
   "attachments": {},
   "cell_type": "markdown",
   "metadata": {},
   "source": [
    "### In-sample analysis"
   ]
  },
  {
   "cell_type": "code",
   "execution_count": 10,
   "metadata": {},
   "outputs": [
    {
     "name": "stdout",
     "output_type": "stream",
     "text": [
      "best lr: 0.1, best max_depth: 5, best min_samples_leaf: 10, best avg_mse: 245.06471090277887\n"
     ]
    }
   ],
   "source": [
    "print(f'best lr: {best_lr}, best max_depth: {best_depth}, best min_samples_leaf: {best_msl}, best avg_mse: {np.mean(best_mses)}')"
   ]
  },
  {
   "cell_type": "code",
   "execution_count": 11,
   "metadata": {},
   "outputs": [
    {
     "data": {
      "text/html": [
       "<div>\n",
       "<style scoped>\n",
       "    .dataframe tbody tr th:only-of-type {\n",
       "        vertical-align: middle;\n",
       "    }\n",
       "\n",
       "    .dataframe tbody tr th {\n",
       "        vertical-align: top;\n",
       "    }\n",
       "\n",
       "    .dataframe thead th {\n",
       "        text-align: right;\n",
       "    }\n",
       "</style>\n",
       "<table border=\"1\" class=\"dataframe\">\n",
       "  <thead>\n",
       "    <tr style=\"text-align: right;\">\n",
       "      <th></th>\n",
       "      <th>Cross-Validation MSE</th>\n",
       "    </tr>\n",
       "  </thead>\n",
       "  <tbody>\n",
       "    <tr>\n",
       "      <th>0</th>\n",
       "      <td>223.259709</td>\n",
       "    </tr>\n",
       "    <tr>\n",
       "      <th>1</th>\n",
       "      <td>79.617750</td>\n",
       "    </tr>\n",
       "    <tr>\n",
       "      <th>2</th>\n",
       "      <td>341.156212</td>\n",
       "    </tr>\n",
       "    <tr>\n",
       "      <th>3</th>\n",
       "      <td>179.810244</td>\n",
       "    </tr>\n",
       "    <tr>\n",
       "      <th>4</th>\n",
       "      <td>206.721286</td>\n",
       "    </tr>\n",
       "    <tr>\n",
       "      <th>5</th>\n",
       "      <td>90.953113</td>\n",
       "    </tr>\n",
       "    <tr>\n",
       "      <th>6</th>\n",
       "      <td>272.386957</td>\n",
       "    </tr>\n",
       "    <tr>\n",
       "      <th>7</th>\n",
       "      <td>185.195260</td>\n",
       "    </tr>\n",
       "    <tr>\n",
       "      <th>8</th>\n",
       "      <td>785.322327</td>\n",
       "    </tr>\n",
       "    <tr>\n",
       "      <th>9</th>\n",
       "      <td>86.224252</td>\n",
       "    </tr>\n",
       "  </tbody>\n",
       "</table>\n",
       "</div>"
      ],
      "text/plain": [
       "   Cross-Validation MSE\n",
       "0            223.259709\n",
       "1             79.617750\n",
       "2            341.156212\n",
       "3            179.810244\n",
       "4            206.721286\n",
       "5             90.953113\n",
       "6            272.386957\n",
       "7            185.195260\n",
       "8            785.322327\n",
       "9             86.224252"
      ]
     },
     "execution_count": 11,
     "metadata": {},
     "output_type": "execute_result"
    }
   ],
   "source": [
    "cv_df = pd.DataFrame(best_mses, columns=['Cross-Validation MSE'])\n",
    "cv_df"
   ]
  },
  {
   "cell_type": "code",
   "execution_count": 12,
   "metadata": {},
   "outputs": [],
   "source": [
    "cv_df.to_csv('data/output/cv/gbr_log.csv')"
   ]
  }
 ],
 "metadata": {
  "kernelspec": {
   "display_name": "IE4211",
   "language": "python",
   "name": "python3"
  },
  "language_info": {
   "codemirror_mode": {
    "name": "ipython",
    "version": 3
   },
   "file_extension": ".py",
   "mimetype": "text/x-python",
   "name": "python",
   "nbconvert_exporter": "python",
   "pygments_lexer": "ipython3",
   "version": "3.9.13"
  },
  "orig_nbformat": 4
 },
 "nbformat": 4,
 "nbformat_minor": 2
}
