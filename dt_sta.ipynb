{
 "cells": [
  {
   "cell_type": "code",
   "execution_count": 10,
   "metadata": {},
   "outputs": [],
   "source": [
    "import numpy as np\n",
    "import pandas as pd\n",
    "import matplotlib.pyplot as plt"
   ]
  },
  {
   "cell_type": "code",
   "execution_count": 11,
   "metadata": {},
   "outputs": [],
   "source": [
    "X_train = pd.read_csv('data/input/standardized_X_train.csv', index_col=0)\n",
    "y_train = pd.read_csv('data/input/y_train.csv', index_col=0)"
   ]
  },
  {
   "cell_type": "code",
   "execution_count": 12,
   "metadata": {},
   "outputs": [],
   "source": [
    "X_test = pd.read_csv('data/input/standardized_X_test.csv', index_col=0)"
   ]
  },
  {
   "cell_type": "code",
   "execution_count": 13,
   "metadata": {},
   "outputs": [],
   "source": [
    "np.random.seed(42)"
   ]
  },
  {
   "attachments": {},
   "cell_type": "markdown",
   "metadata": {},
   "source": [
    "### 10-fold Cross-Validation"
   ]
  },
  {
   "cell_type": "code",
   "execution_count": 14,
   "metadata": {},
   "outputs": [],
   "source": [
    "from sklearn.model_selection import KFold\n",
    "from sklearn.metrics import mean_squared_error"
   ]
  },
  {
   "cell_type": "code",
   "execution_count": 15,
   "metadata": {},
   "outputs": [],
   "source": [
    "def kfold_mse(X, y, model, k=10):\n",
    "    kf = KFold(n_splits=k)\n",
    "    mses = []\n",
    "    for i, (train_idx, val_idx) in enumerate(kf.split(X, y)):\n",
    "        X_train, X_val = X.iloc[train_idx], X.iloc[val_idx]\n",
    "        y_train, y_val = y.iloc[train_idx], y.iloc[val_idx]\n",
    "        model.fit(X_train, y_train['sales']) # Avoid deprecation warning\n",
    "        y_pred = model.predict(X_val)\n",
    "        mses.append(mean_squared_error(y_pred, y_val['sales']))\n",
    "    return mses"
   ]
  },
  {
   "attachments": {},
   "cell_type": "markdown",
   "metadata": {},
   "source": [
    "For decision tree we shall concern tuning `ccp_alpha`, `max_depth` and `min_samples_leaf` in this project. `max_features`, `min_samples_split` are fixed to 'sqrt' and 0.01. "
   ]
  },
  {
   "cell_type": "code",
   "execution_count": 16,
   "metadata": {},
   "outputs": [],
   "source": [
    "ccp_alphas = [0.0, 0.01, 0.02, 0.05, 0.1]\n",
    "min_samples_leafs = [1, 3, 5, 10]\n",
    "max_depths = [None, 3, 5, 10]"
   ]
  },
  {
   "cell_type": "code",
   "execution_count": 17,
   "metadata": {},
   "outputs": [],
   "source": [
    "from sklearn.tree import DecisionTreeRegressor"
   ]
  },
  {
   "cell_type": "code",
   "execution_count": 18,
   "metadata": {},
   "outputs": [
    {
     "name": "stdout",
     "output_type": "stream",
     "text": [
      "ccp_alpha: 0.0, max_depth: None, min_samples_leaf: 1, avg_mse: 593.5616231624102\n",
      "ccp_alpha: 0.0, max_depth: None, min_samples_leaf: 3, avg_mse: 557.0525186664853\n",
      "ccp_alpha: 0.0, max_depth: None, min_samples_leaf: 5, avg_mse: 575.5615947857348\n",
      "ccp_alpha: 0.0, max_depth: None, min_samples_leaf: 10, avg_mse: 588.8558827593738\n",
      "ccp_alpha: 0.0, max_depth: 3, min_samples_leaf: 1, avg_mse: 646.640310358137\n",
      "ccp_alpha: 0.0, max_depth: 3, min_samples_leaf: 3, avg_mse: 645.8752332181648\n",
      "ccp_alpha: 0.0, max_depth: 3, min_samples_leaf: 5, avg_mse: 645.9347106622994\n",
      "ccp_alpha: 0.0, max_depth: 3, min_samples_leaf: 10, avg_mse: 645.8274129824874\n",
      "ccp_alpha: 0.0, max_depth: 5, min_samples_leaf: 1, avg_mse: 597.0682083350323\n",
      "ccp_alpha: 0.0, max_depth: 5, min_samples_leaf: 3, avg_mse: 610.3702848013156\n",
      "ccp_alpha: 0.0, max_depth: 5, min_samples_leaf: 5, avg_mse: 602.8548875955396\n",
      "ccp_alpha: 0.0, max_depth: 5, min_samples_leaf: 10, avg_mse: 608.3120131310989\n",
      "ccp_alpha: 0.0, max_depth: 10, min_samples_leaf: 1, avg_mse: 661.3145313512381\n",
      "ccp_alpha: 0.0, max_depth: 10, min_samples_leaf: 3, avg_mse: 557.0790647122401\n",
      "ccp_alpha: 0.0, max_depth: 10, min_samples_leaf: 5, avg_mse: 567.7757868844767\n",
      "ccp_alpha: 0.0, max_depth: 10, min_samples_leaf: 10, avg_mse: 594.9920165938571\n",
      "ccp_alpha: 0.01, max_depth: None, min_samples_leaf: 1, avg_mse: 593.6979852819742\n",
      "ccp_alpha: 0.01, max_depth: None, min_samples_leaf: 3, avg_mse: 557.0603498760747\n",
      "ccp_alpha: 0.01, max_depth: None, min_samples_leaf: 5, avg_mse: 575.6962862359511\n",
      "ccp_alpha: 0.01, max_depth: None, min_samples_leaf: 10, avg_mse: 588.8320526104072\n",
      "ccp_alpha: 0.01, max_depth: 3, min_samples_leaf: 1, avg_mse: 646.640310358137\n",
      "ccp_alpha: 0.01, max_depth: 3, min_samples_leaf: 3, avg_mse: 645.8752332181648\n",
      "ccp_alpha: 0.01, max_depth: 3, min_samples_leaf: 5, avg_mse: 645.9347106622994\n",
      "ccp_alpha: 0.01, max_depth: 3, min_samples_leaf: 10, avg_mse: 645.8274129824874\n",
      "ccp_alpha: 0.01, max_depth: 5, min_samples_leaf: 1, avg_mse: 597.0725098338261\n",
      "ccp_alpha: 0.01, max_depth: 5, min_samples_leaf: 3, avg_mse: 610.3682869274259\n",
      "ccp_alpha: 0.01, max_depth: 5, min_samples_leaf: 5, avg_mse: 602.8575169471645\n",
      "ccp_alpha: 0.01, max_depth: 5, min_samples_leaf: 10, avg_mse: 608.313793631921\n",
      "ccp_alpha: 0.01, max_depth: 10, min_samples_leaf: 1, avg_mse: 661.2967041880029\n",
      "ccp_alpha: 0.01, max_depth: 10, min_samples_leaf: 3, avg_mse: 557.0772311465715\n",
      "ccp_alpha: 0.01, max_depth: 10, min_samples_leaf: 5, avg_mse: 567.7998125691431\n",
      "ccp_alpha: 0.01, max_depth: 10, min_samples_leaf: 10, avg_mse: 595.0106864552702\n",
      "ccp_alpha: 0.02, max_depth: None, min_samples_leaf: 1, avg_mse: 593.5535008255357\n",
      "ccp_alpha: 0.02, max_depth: None, min_samples_leaf: 3, avg_mse: 557.1464931097377\n",
      "ccp_alpha: 0.02, max_depth: None, min_samples_leaf: 5, avg_mse: 575.7422664801038\n",
      "ccp_alpha: 0.02, max_depth: None, min_samples_leaf: 10, avg_mse: 588.8241695772599\n",
      "ccp_alpha: 0.02, max_depth: 3, min_samples_leaf: 1, avg_mse: 646.640310358137\n",
      "ccp_alpha: 0.02, max_depth: 3, min_samples_leaf: 3, avg_mse: 645.8752332181648\n",
      "ccp_alpha: 0.02, max_depth: 3, min_samples_leaf: 5, avg_mse: 645.9347106622994\n",
      "ccp_alpha: 0.02, max_depth: 3, min_samples_leaf: 10, avg_mse: 645.8274129824874\n",
      "ccp_alpha: 0.02, max_depth: 5, min_samples_leaf: 1, avg_mse: 597.0725098338261\n",
      "ccp_alpha: 0.02, max_depth: 5, min_samples_leaf: 3, avg_mse: 610.3682869274259\n",
      "ccp_alpha: 0.02, max_depth: 5, min_samples_leaf: 5, avg_mse: 602.8575169471645\n",
      "ccp_alpha: 0.02, max_depth: 5, min_samples_leaf: 10, avg_mse: 608.1909731838283\n",
      "ccp_alpha: 0.02, max_depth: 10, min_samples_leaf: 1, avg_mse: 661.2911730729236\n",
      "ccp_alpha: 0.02, max_depth: 10, min_samples_leaf: 3, avg_mse: 557.1456173763934\n",
      "ccp_alpha: 0.02, max_depth: 10, min_samples_leaf: 5, avg_mse: 567.7971664959296\n",
      "ccp_alpha: 0.02, max_depth: 10, min_samples_leaf: 10, avg_mse: 594.9620653594047\n",
      "ccp_alpha: 0.05, max_depth: None, min_samples_leaf: 1, avg_mse: 592.8269519502312\n",
      "ccp_alpha: 0.05, max_depth: None, min_samples_leaf: 3, avg_mse: 556.9928469741465\n",
      "ccp_alpha: 0.05, max_depth: None, min_samples_leaf: 5, avg_mse: 575.9798099097125\n",
      "ccp_alpha: 0.05, max_depth: None, min_samples_leaf: 10, avg_mse: 588.9156338776161\n",
      "ccp_alpha: 0.05, max_depth: 3, min_samples_leaf: 1, avg_mse: 646.640310358137\n",
      "ccp_alpha: 0.05, max_depth: 3, min_samples_leaf: 3, avg_mse: 645.8752332181648\n",
      "ccp_alpha: 0.05, max_depth: 3, min_samples_leaf: 5, avg_mse: 645.9347106622994\n",
      "ccp_alpha: 0.05, max_depth: 3, min_samples_leaf: 10, avg_mse: 645.8274129824874\n",
      "ccp_alpha: 0.05, max_depth: 5, min_samples_leaf: 1, avg_mse: 597.0858910723612\n",
      "ccp_alpha: 0.05, max_depth: 5, min_samples_leaf: 3, avg_mse: 610.3774006071205\n",
      "ccp_alpha: 0.05, max_depth: 5, min_samples_leaf: 5, avg_mse: 602.8666306268593\n",
      "ccp_alpha: 0.05, max_depth: 5, min_samples_leaf: 10, avg_mse: 608.1685841848555\n",
      "ccp_alpha: 0.05, max_depth: 10, min_samples_leaf: 1, avg_mse: 661.3640336388527\n",
      "ccp_alpha: 0.05, max_depth: 10, min_samples_leaf: 3, avg_mse: 557.1066775531499\n",
      "ccp_alpha: 0.05, max_depth: 10, min_samples_leaf: 5, avg_mse: 567.7229512504412\n",
      "ccp_alpha: 0.05, max_depth: 10, min_samples_leaf: 10, avg_mse: 594.9199564518719\n",
      "ccp_alpha: 0.1, max_depth: None, min_samples_leaf: 1, avg_mse: 592.3648951571056\n",
      "ccp_alpha: 0.1, max_depth: None, min_samples_leaf: 3, avg_mse: 557.1211251513922\n",
      "ccp_alpha: 0.1, max_depth: None, min_samples_leaf: 5, avg_mse: 575.8688248997453\n",
      "ccp_alpha: 0.1, max_depth: None, min_samples_leaf: 10, avg_mse: 589.0258926110421\n",
      "ccp_alpha: 0.1, max_depth: 3, min_samples_leaf: 1, avg_mse: 646.640310358137\n",
      "ccp_alpha: 0.1, max_depth: 3, min_samples_leaf: 3, avg_mse: 645.8752332181648\n",
      "ccp_alpha: 0.1, max_depth: 3, min_samples_leaf: 5, avg_mse: 645.9347106622994\n",
      "ccp_alpha: 0.1, max_depth: 3, min_samples_leaf: 10, avg_mse: 645.8274129824874\n",
      "ccp_alpha: 0.1, max_depth: 5, min_samples_leaf: 1, avg_mse: 597.0594364688342\n",
      "ccp_alpha: 0.1, max_depth: 5, min_samples_leaf: 3, avg_mse: 610.3682989475477\n",
      "ccp_alpha: 0.1, max_depth: 5, min_samples_leaf: 5, avg_mse: 602.8575289672865\n",
      "ccp_alpha: 0.1, max_depth: 5, min_samples_leaf: 10, avg_mse: 608.095971488958\n",
      "ccp_alpha: 0.1, max_depth: 10, min_samples_leaf: 1, avg_mse: 660.9573017434652\n",
      "ccp_alpha: 0.1, max_depth: 10, min_samples_leaf: 3, avg_mse: 556.9297735401863\n",
      "ccp_alpha: 0.1, max_depth: 10, min_samples_leaf: 5, avg_mse: 567.8484769812661\n",
      "ccp_alpha: 0.1, max_depth: 10, min_samples_leaf: 10, avg_mse: 594.8135614705348\n"
     ]
    }
   ],
   "source": [
    "best_mses = []\n",
    "best_avg_score = 1e9\n",
    "best_ccp_alpha = None\n",
    "best_depth = None\n",
    "best_min_samples_leaf = None\n",
    "for ccp_alpha in ccp_alphas:\n",
    "    for depth in max_depths:\n",
    "        for min_samples_leaf in min_samples_leafs:\n",
    "            model = DecisionTreeRegressor(ccp_alpha=ccp_alpha, max_depth=depth, min_samples_leaf=min_samples_leaf, random_state=42, min_samples_split=0.01, max_features='sqrt')\n",
    "            mses = kfold_mse(X_train, y_train, model)\n",
    "            if np.mean(mses) < best_avg_score:\n",
    "                best_avg_score = np.mean(mses)\n",
    "                best_ccp_alpha = ccp_alpha\n",
    "                best_depth = depth\n",
    "                best_min_samples_leaf = min_samples_leaf\n",
    "                best_mses = mses\n",
    "            print(f'ccp_alpha: {ccp_alpha}, max_depth: {depth}, min_samples_leaf: {min_samples_leaf}, avg_mse: {np.mean(mses)}')"
   ]
  },
  {
   "attachments": {},
   "cell_type": "markdown",
   "metadata": {},
   "source": [
    "### In-sample analysis"
   ]
  },
  {
   "cell_type": "code",
   "execution_count": 19,
   "metadata": {},
   "outputs": [
    {
     "name": "stdout",
     "output_type": "stream",
     "text": [
      "best ccp_alpha: 0.1, best max_depth: 10, best min_samples_leaf: 3, best avg_mse: 556.9297735401863\n"
     ]
    }
   ],
   "source": [
    "print(f'best ccp_alpha: {best_ccp_alpha}, best max_depth: {best_depth}, best min_samples_leaf: {best_min_samples_leaf}, best avg_mse: {np.mean(best_mses)}')"
   ]
  },
  {
   "cell_type": "code",
   "execution_count": 20,
   "metadata": {},
   "outputs": [
    {
     "data": {
      "text/html": [
       "<div>\n",
       "<style scoped>\n",
       "    .dataframe tbody tr th:only-of-type {\n",
       "        vertical-align: middle;\n",
       "    }\n",
       "\n",
       "    .dataframe tbody tr th {\n",
       "        vertical-align: top;\n",
       "    }\n",
       "\n",
       "    .dataframe thead th {\n",
       "        text-align: right;\n",
       "    }\n",
       "</style>\n",
       "<table border=\"1\" class=\"dataframe\">\n",
       "  <thead>\n",
       "    <tr style=\"text-align: right;\">\n",
       "      <th></th>\n",
       "      <th>Cross-Validation MSE</th>\n",
       "    </tr>\n",
       "  </thead>\n",
       "  <tbody>\n",
       "    <tr>\n",
       "      <th>0</th>\n",
       "      <td>403.200490</td>\n",
       "    </tr>\n",
       "    <tr>\n",
       "      <th>1</th>\n",
       "      <td>342.490907</td>\n",
       "    </tr>\n",
       "    <tr>\n",
       "      <th>2</th>\n",
       "      <td>587.428174</td>\n",
       "    </tr>\n",
       "    <tr>\n",
       "      <th>3</th>\n",
       "      <td>431.444526</td>\n",
       "    </tr>\n",
       "    <tr>\n",
       "      <th>4</th>\n",
       "      <td>542.614023</td>\n",
       "    </tr>\n",
       "    <tr>\n",
       "      <th>5</th>\n",
       "      <td>323.315097</td>\n",
       "    </tr>\n",
       "    <tr>\n",
       "      <th>6</th>\n",
       "      <td>797.677927</td>\n",
       "    </tr>\n",
       "    <tr>\n",
       "      <th>7</th>\n",
       "      <td>508.218422</td>\n",
       "    </tr>\n",
       "    <tr>\n",
       "      <th>8</th>\n",
       "      <td>1185.250506</td>\n",
       "    </tr>\n",
       "    <tr>\n",
       "      <th>9</th>\n",
       "      <td>447.657664</td>\n",
       "    </tr>\n",
       "  </tbody>\n",
       "</table>\n",
       "</div>"
      ],
      "text/plain": [
       "   Cross-Validation MSE\n",
       "0            403.200490\n",
       "1            342.490907\n",
       "2            587.428174\n",
       "3            431.444526\n",
       "4            542.614023\n",
       "5            323.315097\n",
       "6            797.677927\n",
       "7            508.218422\n",
       "8           1185.250506\n",
       "9            447.657664"
      ]
     },
     "execution_count": 20,
     "metadata": {},
     "output_type": "execute_result"
    }
   ],
   "source": [
    "cv_df = pd.DataFrame(best_mses, columns=['Cross-Validation MSE'])\n",
    "cv_df"
   ]
  },
  {
   "cell_type": "code",
   "execution_count": 21,
   "metadata": {},
   "outputs": [],
   "source": [
    "cv_df.to_csv('data/output/cv/dt_sta.csv')"
   ]
  }
 ],
 "metadata": {
  "kernelspec": {
   "display_name": "IE4211",
   "language": "python",
   "name": "python3"
  },
  "language_info": {
   "codemirror_mode": {
    "name": "ipython",
    "version": 3
   },
   "file_extension": ".py",
   "mimetype": "text/x-python",
   "name": "python",
   "nbconvert_exporter": "python",
   "pygments_lexer": "ipython3",
   "version": "3.9.13"
  },
  "orig_nbformat": 4
 },
 "nbformat": 4,
 "nbformat_minor": 2
}
