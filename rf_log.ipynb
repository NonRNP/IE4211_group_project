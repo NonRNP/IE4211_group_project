{
 "cells": [
  {
   "cell_type": "code",
   "execution_count": 1,
   "metadata": {},
   "outputs": [],
   "source": [
    "import numpy as np\n",
    "import pandas as pd\n",
    "import matplotlib.pyplot as plt"
   ]
  },
  {
   "cell_type": "code",
   "execution_count": 2,
   "metadata": {},
   "outputs": [],
   "source": [
    "X_train = pd.read_csv('data/input/non_standardized_X_train.csv', index_col=0)\n",
    "y_train = pd.read_csv('data/input/y_log_train.csv', index_col=0)"
   ]
  },
  {
   "cell_type": "code",
   "execution_count": 3,
   "metadata": {},
   "outputs": [],
   "source": [
    "X_test = pd.read_csv('data/input/non_standardized_X_test.csv', index_col=0)"
   ]
  },
  {
   "cell_type": "code",
   "execution_count": 4,
   "metadata": {},
   "outputs": [],
   "source": [
    "np.random.seed(42)"
   ]
  },
  {
   "attachments": {},
   "cell_type": "markdown",
   "metadata": {},
   "source": [
    "### 10-fold Cross-Validation"
   ]
  },
  {
   "cell_type": "code",
   "execution_count": 5,
   "metadata": {},
   "outputs": [],
   "source": [
    "from sklearn.model_selection import KFold\n",
    "from sklearn.metrics import mean_squared_error"
   ]
  },
  {
   "cell_type": "code",
   "execution_count": 6,
   "metadata": {},
   "outputs": [],
   "source": [
    "def kfold_mse(X, y, model, k=10):\n",
    "    kf = KFold(n_splits=k)\n",
    "    mses = []\n",
    "    for i, (train_idx, val_idx) in enumerate(kf.split(X, y)):\n",
    "        X_train, X_val = X.iloc[train_idx], X.iloc[val_idx]\n",
    "        y_train, y_val = y.iloc[train_idx], y.iloc[val_idx]\n",
    "        model.fit(X_train, y_train['sales']) # Avoid deprecation warning\n",
    "        y_pred = model.predict(X_val)\n",
    "        mses.append(mean_squared_error(np.exp(y_pred), np.exp(y_val['sales']))) # Have to exponentiate to get back to original scale\n",
    "    return mses"
   ]
  },
  {
   "attachments": {},
   "cell_type": "markdown",
   "metadata": {},
   "source": [
    "We shall concern only `ccp_alpha`, `max_depth` and `min_samples_leaf` in this project. `n_estimators`, `max_features`, `min_samples_split`, are fixed to 1000, `sqrt` and 0.01. Actually, using more estimators is better as random forest does not overfit. 1000 is a good number to stay within computational time limits."
   ]
  },
  {
   "cell_type": "code",
   "execution_count": 7,
   "metadata": {},
   "outputs": [],
   "source": [
    "ccp_alphas = [0.0, 0.01, 0.05, 0.1]\n",
    "min_samples_leafs = [1, 3, 5, 10]\n",
    "max_depths = [None, 3, 5, 10]"
   ]
  },
  {
   "cell_type": "code",
   "execution_count": 8,
   "metadata": {},
   "outputs": [],
   "source": [
    "from sklearn.ensemble import RandomForestRegressor"
   ]
  },
  {
   "cell_type": "code",
   "execution_count": 9,
   "metadata": {},
   "outputs": [
    {
     "name": "stdout",
     "output_type": "stream",
     "text": [
      "ccp_alpha: 0.0, max_depth: None, min_samples_leaf: 1, avg_mse: 449.81591139750117\n",
      "ccp_alpha: 0.0, max_depth: None, min_samples_leaf: 3, avg_mse: 466.5974075985886\n",
      "ccp_alpha: 0.0, max_depth: None, min_samples_leaf: 5, avg_mse: 481.0962932913182\n",
      "ccp_alpha: 0.0, max_depth: None, min_samples_leaf: 10, avg_mse: 512.0074617754393\n",
      "ccp_alpha: 0.0, max_depth: 3, min_samples_leaf: 1, avg_mse: 700.0400980171413\n",
      "ccp_alpha: 0.0, max_depth: 3, min_samples_leaf: 3, avg_mse: 699.8266579263726\n",
      "ccp_alpha: 0.0, max_depth: 3, min_samples_leaf: 5, avg_mse: 699.7949958987069\n",
      "ccp_alpha: 0.0, max_depth: 3, min_samples_leaf: 10, avg_mse: 700.2335709312671\n",
      "ccp_alpha: 0.0, max_depth: 5, min_samples_leaf: 1, avg_mse: 635.4306080577272\n",
      "ccp_alpha: 0.0, max_depth: 5, min_samples_leaf: 3, avg_mse: 635.2600840305829\n",
      "ccp_alpha: 0.0, max_depth: 5, min_samples_leaf: 5, avg_mse: 635.2580105573659\n",
      "ccp_alpha: 0.0, max_depth: 5, min_samples_leaf: 10, avg_mse: 636.9448525866121\n",
      "ccp_alpha: 0.0, max_depth: 10, min_samples_leaf: 1, avg_mse: 529.1179639421665\n",
      "ccp_alpha: 0.0, max_depth: 10, min_samples_leaf: 3, avg_mse: 531.4222089467336\n",
      "ccp_alpha: 0.0, max_depth: 10, min_samples_leaf: 5, avg_mse: 534.285870441476\n",
      "ccp_alpha: 0.0, max_depth: 10, min_samples_leaf: 10, avg_mse: 543.9309195759779\n",
      "ccp_alpha: 0.01, max_depth: None, min_samples_leaf: 1, avg_mse: 551.4190914427995\n",
      "ccp_alpha: 0.01, max_depth: None, min_samples_leaf: 3, avg_mse: 554.2754167731571\n",
      "ccp_alpha: 0.01, max_depth: None, min_samples_leaf: 5, avg_mse: 556.3918589922421\n",
      "ccp_alpha: 0.01, max_depth: None, min_samples_leaf: 10, avg_mse: 564.2249986240747\n",
      "ccp_alpha: 0.01, max_depth: 3, min_samples_leaf: 1, avg_mse: 701.2707070675659\n",
      "ccp_alpha: 0.01, max_depth: 3, min_samples_leaf: 3, avg_mse: 701.1096337095705\n",
      "ccp_alpha: 0.01, max_depth: 3, min_samples_leaf: 5, avg_mse: 701.068867709452\n",
      "ccp_alpha: 0.01, max_depth: 3, min_samples_leaf: 10, avg_mse: 701.4944087741933\n",
      "ccp_alpha: 0.01, max_depth: 5, min_samples_leaf: 1, avg_mse: 640.7744659875003\n",
      "ccp_alpha: 0.01, max_depth: 5, min_samples_leaf: 3, avg_mse: 640.7053547564548\n",
      "ccp_alpha: 0.01, max_depth: 5, min_samples_leaf: 5, avg_mse: 640.7716687354784\n",
      "ccp_alpha: 0.01, max_depth: 5, min_samples_leaf: 10, avg_mse: 642.3979326706689\n",
      "ccp_alpha: 0.01, max_depth: 10, min_samples_leaf: 1, avg_mse: 567.6018777923772\n",
      "ccp_alpha: 0.01, max_depth: 10, min_samples_leaf: 3, avg_mse: 568.4386405721\n",
      "ccp_alpha: 0.01, max_depth: 10, min_samples_leaf: 5, avg_mse: 570.1672472822701\n",
      "ccp_alpha: 0.01, max_depth: 10, min_samples_leaf: 10, avg_mse: 575.140592477221\n",
      "ccp_alpha: 0.05, max_depth: None, min_samples_leaf: 1, avg_mse: 655.8917665643901\n",
      "ccp_alpha: 0.05, max_depth: None, min_samples_leaf: 3, avg_mse: 656.5672776088179\n",
      "ccp_alpha: 0.05, max_depth: None, min_samples_leaf: 5, avg_mse: 656.2113292265847\n",
      "ccp_alpha: 0.05, max_depth: None, min_samples_leaf: 10, avg_mse: 657.3524643015891\n",
      "ccp_alpha: 0.05, max_depth: 3, min_samples_leaf: 1, avg_mse: 712.1208967193239\n",
      "ccp_alpha: 0.05, max_depth: 3, min_samples_leaf: 3, avg_mse: 711.8957537710999\n",
      "ccp_alpha: 0.05, max_depth: 3, min_samples_leaf: 5, avg_mse: 711.8836008599043\n",
      "ccp_alpha: 0.05, max_depth: 3, min_samples_leaf: 10, avg_mse: 712.2764593153781\n",
      "ccp_alpha: 0.05, max_depth: 5, min_samples_leaf: 1, avg_mse: 673.9056841673644\n",
      "ccp_alpha: 0.05, max_depth: 5, min_samples_leaf: 3, avg_mse: 673.7494964986311\n",
      "ccp_alpha: 0.05, max_depth: 5, min_samples_leaf: 5, avg_mse: 673.9635720846252\n",
      "ccp_alpha: 0.05, max_depth: 5, min_samples_leaf: 10, avg_mse: 674.4542653646834\n",
      "ccp_alpha: 0.05, max_depth: 10, min_samples_leaf: 1, avg_mse: 656.6041690229405\n",
      "ccp_alpha: 0.05, max_depth: 10, min_samples_leaf: 3, avg_mse: 655.8111336602338\n",
      "ccp_alpha: 0.05, max_depth: 10, min_samples_leaf: 5, avg_mse: 656.3499078392044\n",
      "ccp_alpha: 0.05, max_depth: 10, min_samples_leaf: 10, avg_mse: 656.9356662518969\n",
      "ccp_alpha: 0.1, max_depth: None, min_samples_leaf: 1, avg_mse: 713.334751013909\n",
      "ccp_alpha: 0.1, max_depth: None, min_samples_leaf: 3, avg_mse: 714.0823910400608\n",
      "ccp_alpha: 0.1, max_depth: None, min_samples_leaf: 5, avg_mse: 714.7105583909809\n",
      "ccp_alpha: 0.1, max_depth: None, min_samples_leaf: 10, avg_mse: 714.0438492585365\n",
      "ccp_alpha: 0.1, max_depth: 3, min_samples_leaf: 1, avg_mse: 730.4622297378467\n",
      "ccp_alpha: 0.1, max_depth: 3, min_samples_leaf: 3, avg_mse: 730.1979515775931\n",
      "ccp_alpha: 0.1, max_depth: 3, min_samples_leaf: 5, avg_mse: 730.0722629832544\n",
      "ccp_alpha: 0.1, max_depth: 3, min_samples_leaf: 10, avg_mse: 730.4606579441519\n",
      "ccp_alpha: 0.1, max_depth: 5, min_samples_leaf: 1, avg_mse: 714.2410552521196\n",
      "ccp_alpha: 0.1, max_depth: 5, min_samples_leaf: 3, avg_mse: 714.2484872946209\n",
      "ccp_alpha: 0.1, max_depth: 5, min_samples_leaf: 5, avg_mse: 714.6248707794855\n",
      "ccp_alpha: 0.1, max_depth: 5, min_samples_leaf: 10, avg_mse: 715.1735981752906\n",
      "ccp_alpha: 0.1, max_depth: 10, min_samples_leaf: 1, avg_mse: 713.4250198230991\n",
      "ccp_alpha: 0.1, max_depth: 10, min_samples_leaf: 3, avg_mse: 713.4836565680029\n",
      "ccp_alpha: 0.1, max_depth: 10, min_samples_leaf: 5, avg_mse: 713.745955600899\n",
      "ccp_alpha: 0.1, max_depth: 10, min_samples_leaf: 10, avg_mse: 713.6503816090212\n"
     ]
    }
   ],
   "source": [
    "best_mses = []\n",
    "best_avg_score = 1e9\n",
    "best_ccp_alpha = None\n",
    "best_depth = None\n",
    "best_min_samples_leaf = None\n",
    "for ccp_alpha in ccp_alphas:\n",
    "    for depth in max_depths:\n",
    "        for min_samples_leaf in min_samples_leafs:\n",
    "            model = RandomForestRegressor(ccp_alpha=ccp_alpha, max_depth=depth, min_samples_leaf=min_samples_leaf, random_state=42, min_samples_split=0.01, max_features='sqrt', n_estimators=1000)\n",
    "            mses = kfold_mse(X_train, y_train, model)\n",
    "            if np.mean(mses) < best_avg_score:\n",
    "                best_avg_score = np.mean(mses)\n",
    "                best_ccp_alpha = ccp_alpha\n",
    "                best_depth = depth\n",
    "                best_min_samples_leaf = min_samples_leaf\n",
    "                best_mses = mses\n",
    "            print(f'ccp_alpha: {ccp_alpha}, max_depth: {depth}, min_samples_leaf: {min_samples_leaf}, avg_mse: {np.mean(mses)}')"
   ]
  },
  {
   "attachments": {},
   "cell_type": "markdown",
   "metadata": {},
   "source": [
    "### In-sample analysis"
   ]
  },
  {
   "cell_type": "code",
   "execution_count": 10,
   "metadata": {},
   "outputs": [
    {
     "name": "stdout",
     "output_type": "stream",
     "text": [
      "best ccp_alpha: 0.0, best max_depth: None, best min_samples_leaf: 1, best avg_mse: 449.81591139750117\n"
     ]
    }
   ],
   "source": [
    "print(f'best ccp_alpha: {best_ccp_alpha}, best max_depth: {best_depth}, best min_samples_leaf: {best_min_samples_leaf}, best avg_mse: {np.mean(best_mses)}')"
   ]
  },
  {
   "cell_type": "code",
   "execution_count": 11,
   "metadata": {},
   "outputs": [
    {
     "data": {
      "text/html": [
       "<div>\n",
       "<style scoped>\n",
       "    .dataframe tbody tr th:only-of-type {\n",
       "        vertical-align: middle;\n",
       "    }\n",
       "\n",
       "    .dataframe tbody tr th {\n",
       "        vertical-align: top;\n",
       "    }\n",
       "\n",
       "    .dataframe thead th {\n",
       "        text-align: right;\n",
       "    }\n",
       "</style>\n",
       "<table border=\"1\" class=\"dataframe\">\n",
       "  <thead>\n",
       "    <tr style=\"text-align: right;\">\n",
       "      <th></th>\n",
       "      <th>Cross-Validation MSE</th>\n",
       "    </tr>\n",
       "  </thead>\n",
       "  <tbody>\n",
       "    <tr>\n",
       "      <th>0</th>\n",
       "      <td>474.653047</td>\n",
       "    </tr>\n",
       "    <tr>\n",
       "      <th>1</th>\n",
       "      <td>234.072197</td>\n",
       "    </tr>\n",
       "    <tr>\n",
       "      <th>2</th>\n",
       "      <td>483.051738</td>\n",
       "    </tr>\n",
       "    <tr>\n",
       "      <th>3</th>\n",
       "      <td>327.375808</td>\n",
       "    </tr>\n",
       "    <tr>\n",
       "      <th>4</th>\n",
       "      <td>447.289212</td>\n",
       "    </tr>\n",
       "    <tr>\n",
       "      <th>5</th>\n",
       "      <td>182.848208</td>\n",
       "    </tr>\n",
       "    <tr>\n",
       "      <th>6</th>\n",
       "      <td>720.675893</td>\n",
       "    </tr>\n",
       "    <tr>\n",
       "      <th>7</th>\n",
       "      <td>424.322438</td>\n",
       "    </tr>\n",
       "    <tr>\n",
       "      <th>8</th>\n",
       "      <td>1085.244153</td>\n",
       "    </tr>\n",
       "    <tr>\n",
       "      <th>9</th>\n",
       "      <td>118.626419</td>\n",
       "    </tr>\n",
       "  </tbody>\n",
       "</table>\n",
       "</div>"
      ],
      "text/plain": [
       "   Cross-Validation MSE\n",
       "0            474.653047\n",
       "1            234.072197\n",
       "2            483.051738\n",
       "3            327.375808\n",
       "4            447.289212\n",
       "5            182.848208\n",
       "6            720.675893\n",
       "7            424.322438\n",
       "8           1085.244153\n",
       "9            118.626419"
      ]
     },
     "execution_count": 11,
     "metadata": {},
     "output_type": "execute_result"
    }
   ],
   "source": [
    "cv_df = pd.DataFrame(best_mses, columns=['Cross-Validation MSE'])\n",
    "cv_df"
   ]
  },
  {
   "cell_type": "code",
   "execution_count": 12,
   "metadata": {},
   "outputs": [],
   "source": [
    "cv_df.to_csv('data/output/cv/rf_log.csv')"
   ]
  }
 ],
 "metadata": {
  "kernelspec": {
   "display_name": "IE4211",
   "language": "python",
   "name": "python3"
  },
  "language_info": {
   "codemirror_mode": {
    "name": "ipython",
    "version": 3
   },
   "file_extension": ".py",
   "mimetype": "text/x-python",
   "name": "python",
   "nbconvert_exporter": "python",
   "pygments_lexer": "ipython3",
   "version": "3.9.13"
  },
  "orig_nbformat": 4
 },
 "nbformat": 4,
 "nbformat_minor": 2
}
