{
 "cells": [
  {
   "cell_type": "code",
   "execution_count": 1,
   "metadata": {},
   "outputs": [],
   "source": [
    "import numpy as np\n",
    "import pandas as pd\n",
    "import matplotlib.pyplot as plt"
   ]
  },
  {
   "cell_type": "code",
   "execution_count": 2,
   "metadata": {},
   "outputs": [],
   "source": [
    "X_train = pd.read_csv('data/input/non_standardized_X_train.csv', index_col=0)\n",
    "y_train = pd.read_csv('data/input/y_train.csv', index_col=0)"
   ]
  },
  {
   "cell_type": "code",
   "execution_count": 3,
   "metadata": {},
   "outputs": [],
   "source": [
    "X_test = pd.read_csv('data/input/non_standardized_X_test.csv', index_col=0)"
   ]
  },
  {
   "cell_type": "code",
   "execution_count": 4,
   "metadata": {},
   "outputs": [],
   "source": [
    "np.random.seed(42)"
   ]
  },
  {
   "cell_type": "markdown",
   "metadata": {},
   "source": [
    "### 10-fold Cross-Validation"
   ]
  },
  {
   "cell_type": "code",
   "execution_count": 5,
   "metadata": {},
   "outputs": [],
   "source": [
    "from sklearn.model_selection import KFold\n",
    "from sklearn.metrics import mean_squared_error"
   ]
  },
  {
   "cell_type": "code",
   "execution_count": 6,
   "metadata": {},
   "outputs": [],
   "source": [
    "def kfold_mse(X, y, model, k=10):\n",
    "    kf = KFold(n_splits=k)\n",
    "    mses = []\n",
    "    for i, (train_idx, val_idx) in enumerate(kf.split(X, y)):\n",
    "        X_train, X_val = X.iloc[train_idx], X.iloc[val_idx]\n",
    "        y_train, y_val = y.iloc[train_idx], y.iloc[val_idx]\n",
    "        model.fit(X_train, y_train['sales']) # Avoid deprecation warning\n",
    "        y_pred = model.predict(X_val)\n",
    "        mses.append(mean_squared_error(y_pred, y_val['sales']))\n",
    "    return mses"
   ]
  },
  {
   "cell_type": "markdown",
   "metadata": {},
   "source": [
    "Since scikit-learn's implementation of random forest has many tunable hyperparameters, we shall concern only `ccp_alpha`, `max_depths` and `min_smples_leaf` in this project. `n_estimators`, `max_features`, `min_samples_split` are fixed to 1000, 'sqrt' and 0.01. Actually, using more estimators is better as random forest does not overfit. 1000 is a good number to stay within computational time limits."
   ]
  },
  {
   "cell_type": "code",
   "execution_count": 7,
   "metadata": {},
   "outputs": [],
   "source": [
    "ccp_alphas = [0.0, 0.01, 0.05, 1.0]\n",
    "min_samples_leafs = [1, 3, 5, 10, 20]\n",
    "max_depths = [None, 3, 5, 10]"
   ]
  },
  {
   "cell_type": "code",
   "execution_count": 8,
   "metadata": {},
   "outputs": [],
   "source": [
    "from sklearn.ensemble import RandomForestRegressor"
   ]
  },
  {
   "cell_type": "code",
   "execution_count": 9,
   "metadata": {},
   "outputs": [
    {
     "name": "stdout",
     "output_type": "stream",
     "text": [
      "ccp_alpha: 0.0, max_depth: None, min_samples_leaf: 1, avg_mse: 365.24331544435046\n",
      "ccp_alpha: 0.0, max_depth: None, min_samples_leaf: 3, avg_mse: 374.8475289796194\n",
      "ccp_alpha: 0.0, max_depth: None, min_samples_leaf: 5, avg_mse: 384.89707437320084\n",
      "ccp_alpha: 0.0, max_depth: None, min_samples_leaf: 10, avg_mse: 405.92169861208447\n",
      "ccp_alpha: 0.0, max_depth: None, min_samples_leaf: 20, avg_mse: 445.2677226432141\n",
      "ccp_alpha: 0.0, max_depth: 3, min_samples_leaf: 1, avg_mse: 571.460341418425\n",
      "ccp_alpha: 0.0, max_depth: 3, min_samples_leaf: 3, avg_mse: 564.7353484539369\n",
      "ccp_alpha: 0.0, max_depth: 3, min_samples_leaf: 5, avg_mse: 562.9526703439284\n",
      "ccp_alpha: 0.0, max_depth: 3, min_samples_leaf: 10, avg_mse: 562.2620302270838\n",
      "ccp_alpha: 0.0, max_depth: 3, min_samples_leaf: 20, avg_mse: 563.5872170348958\n",
      "ccp_alpha: 0.0, max_depth: 5, min_samples_leaf: 1, avg_mse: 504.6070947051655\n",
      "ccp_alpha: 0.0, max_depth: 5, min_samples_leaf: 3, avg_mse: 495.8912421356716\n",
      "ccp_alpha: 0.0, max_depth: 5, min_samples_leaf: 5, avg_mse: 493.18853997622716\n",
      "ccp_alpha: 0.0, max_depth: 5, min_samples_leaf: 10, avg_mse: 493.65423303503195\n",
      "ccp_alpha: 0.0, max_depth: 5, min_samples_leaf: 20, avg_mse: 500.0153308947967\n",
      "ccp_alpha: 0.0, max_depth: 10, min_samples_leaf: 1, avg_mse: 410.4550891445112\n",
      "ccp_alpha: 0.0, max_depth: 10, min_samples_leaf: 3, avg_mse: 407.4130293893978\n",
      "ccp_alpha: 0.0, max_depth: 10, min_samples_leaf: 5, avg_mse: 408.9723494441413\n",
      "ccp_alpha: 0.0, max_depth: 10, min_samples_leaf: 10, avg_mse: 419.8158422503102\n",
      "ccp_alpha: 0.0, max_depth: 10, min_samples_leaf: 20, avg_mse: 450.4823668156055\n",
      "ccp_alpha: 0.01, max_depth: None, min_samples_leaf: 1, avg_mse: 365.23064673745625\n",
      "ccp_alpha: 0.01, max_depth: None, min_samples_leaf: 3, avg_mse: 374.836408090145\n",
      "ccp_alpha: 0.01, max_depth: None, min_samples_leaf: 5, avg_mse: 384.8907739748714\n",
      "ccp_alpha: 0.01, max_depth: None, min_samples_leaf: 10, avg_mse: 405.91798410399593\n",
      "ccp_alpha: 0.01, max_depth: None, min_samples_leaf: 20, avg_mse: 445.26729044640734\n",
      "ccp_alpha: 0.01, max_depth: 3, min_samples_leaf: 1, avg_mse: 571.4602702529194\n",
      "ccp_alpha: 0.01, max_depth: 3, min_samples_leaf: 3, avg_mse: 564.7353683515646\n",
      "ccp_alpha: 0.01, max_depth: 3, min_samples_leaf: 5, avg_mse: 562.9525925884213\n",
      "ccp_alpha: 0.01, max_depth: 3, min_samples_leaf: 10, avg_mse: 562.2618255144996\n",
      "ccp_alpha: 0.01, max_depth: 3, min_samples_leaf: 20, avg_mse: 563.5876565711272\n",
      "ccp_alpha: 0.01, max_depth: 5, min_samples_leaf: 1, avg_mse: 504.60543681189813\n",
      "ccp_alpha: 0.01, max_depth: 5, min_samples_leaf: 3, avg_mse: 495.88963310815814\n",
      "ccp_alpha: 0.01, max_depth: 5, min_samples_leaf: 5, avg_mse: 493.1869845407292\n",
      "ccp_alpha: 0.01, max_depth: 5, min_samples_leaf: 10, avg_mse: 493.65313247108327\n",
      "ccp_alpha: 0.01, max_depth: 5, min_samples_leaf: 20, avg_mse: 500.0147026301497\n",
      "ccp_alpha: 0.01, max_depth: 10, min_samples_leaf: 1, avg_mse: 410.44430587947164\n",
      "ccp_alpha: 0.01, max_depth: 10, min_samples_leaf: 3, avg_mse: 407.40205037577095\n",
      "ccp_alpha: 0.01, max_depth: 10, min_samples_leaf: 5, avg_mse: 408.96649441628887\n",
      "ccp_alpha: 0.01, max_depth: 10, min_samples_leaf: 10, avg_mse: 419.81109938628526\n",
      "ccp_alpha: 0.01, max_depth: 10, min_samples_leaf: 20, avg_mse: 450.4819074967962\n",
      "ccp_alpha: 0.05, max_depth: None, min_samples_leaf: 1, avg_mse: 365.2070711524956\n",
      "ccp_alpha: 0.05, max_depth: None, min_samples_leaf: 3, avg_mse: 374.80455753638444\n",
      "ccp_alpha: 0.05, max_depth: None, min_samples_leaf: 5, avg_mse: 384.8583498605568\n",
      "ccp_alpha: 0.05, max_depth: None, min_samples_leaf: 10, avg_mse: 405.9129289081863\n",
      "ccp_alpha: 0.05, max_depth: None, min_samples_leaf: 20, avg_mse: 445.2625339886301\n",
      "ccp_alpha: 0.05, max_depth: 3, min_samples_leaf: 1, avg_mse: 571.4613187833503\n",
      "ccp_alpha: 0.05, max_depth: 3, min_samples_leaf: 3, avg_mse: 564.7352137641849\n",
      "ccp_alpha: 0.05, max_depth: 3, min_samples_leaf: 5, avg_mse: 562.9513903959165\n",
      "ccp_alpha: 0.05, max_depth: 3, min_samples_leaf: 10, avg_mse: 562.2605530613731\n",
      "ccp_alpha: 0.05, max_depth: 3, min_samples_leaf: 20, avg_mse: 563.5878060132484\n",
      "ccp_alpha: 0.05, max_depth: 5, min_samples_leaf: 1, avg_mse: 504.5989800474179\n",
      "ccp_alpha: 0.05, max_depth: 5, min_samples_leaf: 3, avg_mse: 495.877457523507\n",
      "ccp_alpha: 0.05, max_depth: 5, min_samples_leaf: 5, avg_mse: 493.1749506940097\n",
      "ccp_alpha: 0.05, max_depth: 5, min_samples_leaf: 10, avg_mse: 493.63959557771904\n",
      "ccp_alpha: 0.05, max_depth: 5, min_samples_leaf: 20, avg_mse: 500.01228052347335\n",
      "ccp_alpha: 0.05, max_depth: 10, min_samples_leaf: 1, avg_mse: 410.39838100141196\n",
      "ccp_alpha: 0.05, max_depth: 10, min_samples_leaf: 3, avg_mse: 407.34336940600184\n",
      "ccp_alpha: 0.05, max_depth: 10, min_samples_leaf: 5, avg_mse: 408.9276583403521\n",
      "ccp_alpha: 0.05, max_depth: 10, min_samples_leaf: 10, avg_mse: 419.7896795722959\n",
      "ccp_alpha: 0.05, max_depth: 10, min_samples_leaf: 20, avg_mse: 450.47601307014173\n",
      "ccp_alpha: 1.0, max_depth: None, min_samples_leaf: 1, avg_mse: 372.1876908128344\n",
      "ccp_alpha: 1.0, max_depth: None, min_samples_leaf: 3, avg_mse: 379.98599761529323\n",
      "ccp_alpha: 1.0, max_depth: None, min_samples_leaf: 5, avg_mse: 388.89140629194776\n",
      "ccp_alpha: 1.0, max_depth: None, min_samples_leaf: 10, avg_mse: 408.58849224367714\n",
      "ccp_alpha: 1.0, max_depth: None, min_samples_leaf: 20, avg_mse: 446.4498687024834\n",
      "ccp_alpha: 1.0, max_depth: 3, min_samples_leaf: 1, avg_mse: 571.5722216388598\n",
      "ccp_alpha: 1.0, max_depth: 3, min_samples_leaf: 3, avg_mse: 564.8584874351906\n",
      "ccp_alpha: 1.0, max_depth: 3, min_samples_leaf: 5, avg_mse: 563.0837709854167\n",
      "ccp_alpha: 1.0, max_depth: 3, min_samples_leaf: 10, avg_mse: 562.3931150128882\n",
      "ccp_alpha: 1.0, max_depth: 3, min_samples_leaf: 20, avg_mse: 563.685069618018\n",
      "ccp_alpha: 1.0, max_depth: 5, min_samples_leaf: 1, avg_mse: 504.9952336945113\n",
      "ccp_alpha: 1.0, max_depth: 5, min_samples_leaf: 3, avg_mse: 496.34482765725016\n",
      "ccp_alpha: 1.0, max_depth: 5, min_samples_leaf: 5, avg_mse: 493.6220746890899\n",
      "ccp_alpha: 1.0, max_depth: 5, min_samples_leaf: 10, avg_mse: 494.0771606340306\n",
      "ccp_alpha: 1.0, max_depth: 5, min_samples_leaf: 20, avg_mse: 500.30719304232144\n",
      "ccp_alpha: 1.0, max_depth: 10, min_samples_leaf: 1, avg_mse: 412.4910017853496\n",
      "ccp_alpha: 1.0, max_depth: 10, min_samples_leaf: 3, avg_mse: 409.46423528880837\n",
      "ccp_alpha: 1.0, max_depth: 10, min_samples_leaf: 5, avg_mse: 410.8278187271834\n",
      "ccp_alpha: 1.0, max_depth: 10, min_samples_leaf: 10, avg_mse: 421.4474532776221\n",
      "ccp_alpha: 1.0, max_depth: 10, min_samples_leaf: 20, avg_mse: 451.4175058024816\n"
     ]
    }
   ],
   "source": [
    "best_mses = []\n",
    "best_avg_score = 1e9\n",
    "best_ccp_alpha = None\n",
    "best_depth = None\n",
    "best_min_samples_leaf = None\n",
    "for ccp_alpha in ccp_alphas:\n",
    "    for depth in max_depths:\n",
    "        for ml in min_samples_leafs:\n",
    "            model = RandomForestRegressor(ccp_alpha=ccp_alpha, max_depth=depth, min_samples_leaf=ml, random_state=42, min_samples_split=0.01, max_features='sqrt', n_estimators=1000)\n",
    "            mses = kfold_mse(X_train, y_train, model)\n",
    "            if np.mean(mses) < best_avg_score:\n",
    "                best_avg_score = np.mean(mses)\n",
    "                best_ccp_alpha = ccp_alpha\n",
    "                best_depth = depth\n",
    "                best_min_samples_leaf = ml\n",
    "                best_mses = mses\n",
    "            print(f'ccp_alpha: {ccp_alpha}, max_depth: {depth}, min_samples_leaf: {ml}, avg_mse: {np.mean(mses)}')"
   ]
  },
  {
   "cell_type": "markdown",
   "metadata": {},
   "source": [
    "### In-sample analysis"
   ]
  },
  {
   "cell_type": "code",
   "execution_count": 10,
   "metadata": {},
   "outputs": [
    {
     "name": "stdout",
     "output_type": "stream",
     "text": [
      "best ccp_alpha: 0.05, best max_depth: None, best min_samples_leaf: 1, best avg_mse: 365.2070711524956\n"
     ]
    }
   ],
   "source": [
    "print(f'best ccp_alpha: {best_ccp_alpha}, best max_depth: {best_depth}, best min_samples_leaf: {best_min_samples_leaf}, best avg_mse: {np.mean(best_mses)}')"
   ]
  },
  {
   "cell_type": "code",
   "execution_count": 11,
   "metadata": {},
   "outputs": [
    {
     "data": {
      "text/html": [
       "<div>\n",
       "<style scoped>\n",
       "    .dataframe tbody tr th:only-of-type {\n",
       "        vertical-align: middle;\n",
       "    }\n",
       "\n",
       "    .dataframe tbody tr th {\n",
       "        vertical-align: top;\n",
       "    }\n",
       "\n",
       "    .dataframe thead th {\n",
       "        text-align: right;\n",
       "    }\n",
       "</style>\n",
       "<table border=\"1\" class=\"dataframe\">\n",
       "  <thead>\n",
       "    <tr style=\"text-align: right;\">\n",
       "      <th></th>\n",
       "      <th>Cross-Validation MSE</th>\n",
       "    </tr>\n",
       "  </thead>\n",
       "  <tbody>\n",
       "    <tr>\n",
       "      <th>0</th>\n",
       "      <td>303.485832</td>\n",
       "    </tr>\n",
       "    <tr>\n",
       "      <th>1</th>\n",
       "      <td>152.007012</td>\n",
       "    </tr>\n",
       "    <tr>\n",
       "      <th>2</th>\n",
       "      <td>422.142951</td>\n",
       "    </tr>\n",
       "    <tr>\n",
       "      <th>3</th>\n",
       "      <td>273.933731</td>\n",
       "    </tr>\n",
       "    <tr>\n",
       "      <th>4</th>\n",
       "      <td>342.340879</td>\n",
       "    </tr>\n",
       "    <tr>\n",
       "      <th>5</th>\n",
       "      <td>154.461765</td>\n",
       "    </tr>\n",
       "    <tr>\n",
       "      <th>6</th>\n",
       "      <td>571.642974</td>\n",
       "    </tr>\n",
       "    <tr>\n",
       "      <th>7</th>\n",
       "      <td>342.053972</td>\n",
       "    </tr>\n",
       "    <tr>\n",
       "      <th>8</th>\n",
       "      <td>963.654224</td>\n",
       "    </tr>\n",
       "    <tr>\n",
       "      <th>9</th>\n",
       "      <td>126.347371</td>\n",
       "    </tr>\n",
       "  </tbody>\n",
       "</table>\n",
       "</div>"
      ],
      "text/plain": [
       "   Cross-Validation MSE\n",
       "0            303.485832\n",
       "1            152.007012\n",
       "2            422.142951\n",
       "3            273.933731\n",
       "4            342.340879\n",
       "5            154.461765\n",
       "6            571.642974\n",
       "7            342.053972\n",
       "8            963.654224\n",
       "9            126.347371"
      ]
     },
     "execution_count": 11,
     "metadata": {},
     "output_type": "execute_result"
    }
   ],
   "source": [
    "cv_df = pd.DataFrame(best_mses, columns=['Cross-Validation MSE'])\n",
    "cv_df"
   ]
  },
  {
   "cell_type": "code",
   "execution_count": 12,
   "metadata": {},
   "outputs": [],
   "source": [
    "cv_df.to_csv('data/output/cv/rf.csv')"
   ]
  },
  {
   "cell_type": "markdown",
   "metadata": {},
   "source": [
    "### Model fitting\n",
    "\n",
    "After finding best parameters (not applicable to LR but useful for other models), we fit the model on the entire training set and predict on the test set. Also, we collect residuals to prepare for inventory decision making."
   ]
  },
  {
   "cell_type": "code",
   "execution_count": 13,
   "metadata": {},
   "outputs": [],
   "source": [
    "rf = RandomForestRegressor(ccp_alpha=best_ccp_alpha, max_depth=best_depth, min_samples_leaf=best_min_samples_leaf, random_state=42, min_samples_split=0.01, max_features='sqrt', n_estimators=1000)\n",
    "rf.fit(X_train, y_train['sales']) # Avoid deprecation warning\n",
    "residuals = y_train['sales'] - rf.predict(X_train)"
   ]
  },
  {
   "cell_type": "code",
   "execution_count": 14,
   "metadata": {},
   "outputs": [],
   "source": [
    "output_df = X_test.copy()"
   ]
  },
  {
   "cell_type": "code",
   "execution_count": 15,
   "metadata": {},
   "outputs": [],
   "source": [
    "output_df['sales'] = rf.predict(X_test)"
   ]
  },
  {
   "cell_type": "markdown",
   "metadata": {},
   "source": [
    "### Inventory decision\n",
    "As sales data come from a natural process, we shall not assume it is distributed in any particular model. Hence, we shall use an empirical distribution to make our inventory decision. "
   ]
  },
  {
   "cell_type": "code",
   "execution_count": 16,
   "metadata": {},
   "outputs": [
    {
     "data": {
      "text/plain": [
       "count    2211.000000\n",
       "mean       -0.053561\n",
       "std        14.613265\n",
       "min       -27.025531\n",
       "25%        -4.562280\n",
       "50%        -2.266459\n",
       "75%         0.755225\n",
       "max       311.846175\n",
       "Name: sales, dtype: float64"
      ]
     },
     "execution_count": 16,
     "metadata": {},
     "output_type": "execute_result"
    }
   ],
   "source": [
    "residuals.describe()"
   ]
  },
  {
   "cell_type": "markdown",
   "metadata": {},
   "source": [
    "For visualization of Empirical CDF, we use the `statsmodels` package:"
   ]
  },
  {
   "cell_type": "code",
   "execution_count": 17,
   "metadata": {},
   "outputs": [],
   "source": [
    "from statsmodels.distributions.empirical_distribution import ECDF"
   ]
  },
  {
   "cell_type": "code",
   "execution_count": 18,
   "metadata": {},
   "outputs": [],
   "source": [
    "ecdf = ECDF(residuals)"
   ]
  },
  {
   "cell_type": "code",
   "execution_count": 19,
   "metadata": {},
   "outputs": [
    {
     "data": {
      "image/png": "[encoded data removed]",
      "text/plain": [
       "<Figure size 640x480 with 1 Axes>"
      ]
     },
     "metadata": {},
     "output_type": "display_data"
    }
   ],
   "source": [
    "plt.plot(ecdf.x, ecdf.y)\n",
    "plt.xlim(-25, 40)\n",
    "plt.show()"
   ]
  },
  {
   "cell_type": "markdown",
   "metadata": {},
   "source": [
    "Sparsity is not a concern since we have a large sample size. Therefore, we can use interpolation to obtain ppf. To get the empirical ppf, we can use scipy's `interp1d` to get the inverse function:"
   ]
  },
  {
   "cell_type": "code",
   "execution_count": 20,
   "metadata": {},
   "outputs": [],
   "source": [
    "from scipy.interpolate import interp1d"
   ]
  },
  {
   "cell_type": "code",
   "execution_count": 21,
   "metadata": {},
   "outputs": [],
   "source": [
    "eppf = interp1d(ecdf.y, ecdf.x)"
   ]
  },
  {
   "cell_type": "markdown",
   "metadata": {},
   "source": [
    "Calculate the critical fractile"
   ]
  },
  {
   "cell_type": "code",
   "execution_count": 22,
   "metadata": {},
   "outputs": [
    {
     "data": {
      "text/plain": [
       "0.6666666666666666"
      ]
     },
     "execution_count": 22,
     "metadata": {},
     "output_type": "execute_result"
    }
   ],
   "source": [
    "price = 20\n",
    "cost = 12\n",
    "salvage = 8\n",
    "over = cost - salvage\n",
    "under = price - cost\n",
    "critical_fractile = under / (over + under)\n",
    "critical_fractile"
   ]
  },
  {
   "cell_type": "markdown",
   "metadata": {},
   "source": [
    "We offset our predictions for the test datasets by the $eppf(critical\\_fractile)$ to get the optimal inventory level."
   ]
  },
  {
   "cell_type": "code",
   "execution_count": 23,
   "metadata": {},
   "outputs": [],
   "source": [
    "output_df['inventory'] = eppf(critical_fractile) + output_df['sales']"
   ]
  },
  {
   "cell_type": "code",
   "execution_count": 24,
   "metadata": {},
   "outputs": [
    {
     "data": {
      "text/html": [
       "<div>\n",
       "<style scoped>\n",
       "    .dataframe tbody tr th:only-of-type {\n",
       "        vertical-align: middle;\n",
       "    }\n",
       "\n",
       "    .dataframe tbody tr th {\n",
       "        vertical-align: top;\n",
       "    }\n",
       "\n",
       "    .dataframe thead th {\n",
       "        text-align: right;\n",
       "    }\n",
       "</style>\n",
       "<table border=\"1\" class=\"dataframe\">\n",
       "  <thead>\n",
       "    <tr style=\"text-align: right;\">\n",
       "      <th></th>\n",
       "      <th>sales</th>\n",
       "      <th>inventory</th>\n",
       "    </tr>\n",
       "  </thead>\n",
       "  <tbody>\n",
       "    <tr>\n",
       "      <th>0</th>\n",
       "      <td>33.776872</td>\n",
       "      <td>33.104664</td>\n",
       "    </tr>\n",
       "    <tr>\n",
       "      <th>1</th>\n",
       "      <td>58.733008</td>\n",
       "      <td>58.060800</td>\n",
       "    </tr>\n",
       "    <tr>\n",
       "      <th>2</th>\n",
       "      <td>23.254895</td>\n",
       "      <td>22.582686</td>\n",
       "    </tr>\n",
       "    <tr>\n",
       "      <th>3</th>\n",
       "      <td>26.088089</td>\n",
       "      <td>25.415881</td>\n",
       "    </tr>\n",
       "    <tr>\n",
       "      <th>4</th>\n",
       "      <td>10.394399</td>\n",
       "      <td>9.722191</td>\n",
       "    </tr>\n",
       "  </tbody>\n",
       "</table>\n",
       "</div>"
      ],
      "text/plain": [
       "       sales  inventory\n",
       "0  33.776872  33.104664\n",
       "1  58.733008  58.060800\n",
       "2  23.254895  22.582686\n",
       "3  26.088089  25.415881\n",
       "4  10.394399   9.722191"
      ]
     },
     "execution_count": 24,
     "metadata": {},
     "output_type": "execute_result"
    }
   ],
   "source": [
    "output_df[['sales', 'inventory']].head()"
   ]
  },
  {
   "cell_type": "code",
   "execution_count": 25,
   "metadata": {},
   "outputs": [],
   "source": [
    "output_df.to_csv('data/output/predictions/rf.csv')"
   ]
  },
  {
   "cell_type": "code",
   "execution_count": null,
   "metadata": {},
   "outputs": [],
   "source": []
  }
 ],
 "metadata": {
  "kernelspec": {
   "display_name": "Python 3 (ipykernel)",
   "language": "python",
   "name": "python3"
  },
  "language_info": {
   "codemirror_mode": {
    "name": "ipython",
    "version": 3
   },
   "file_extension": ".py",
   "mimetype": "text/x-python",
   "name": "python",
   "nbconvert_exporter": "python",
   "pygments_lexer": "ipython3",
   "version": "3.9.13"
  }
 },
 "nbformat": 4,
 "nbformat_minor": 4
}
