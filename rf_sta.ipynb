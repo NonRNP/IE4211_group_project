{
 "cells": [
  {
   "cell_type": "code",
   "execution_count": 1,
   "metadata": {},
   "outputs": [],
   "source": [
    "import numpy as np\n",
    "import pandas as pd\n",
    "import matplotlib.pyplot as plt"
   ]
  },
  {
   "cell_type": "code",
   "execution_count": 2,
   "metadata": {},
   "outputs": [],
   "source": [
    "X_train = pd.read_csv('data/input/standardized_X_train.csv', index_col=0)\n",
    "y_train = pd.read_csv('data/input/y_train.csv', index_col=0)"
   ]
  },
  {
   "cell_type": "code",
   "execution_count": 3,
   "metadata": {},
   "outputs": [],
   "source": [
    "X_test = pd.read_csv('data/input/standardized_X_test.csv', index_col=0)"
   ]
  },
  {
   "cell_type": "code",
   "execution_count": 4,
   "metadata": {},
   "outputs": [],
   "source": [
    "np.random.seed(42)"
   ]
  },
  {
   "attachments": {},
   "cell_type": "markdown",
   "metadata": {},
   "source": [
    "### 10-fold Cross-Validation"
   ]
  },
  {
   "cell_type": "code",
   "execution_count": 5,
   "metadata": {},
   "outputs": [],
   "source": [
    "from sklearn.model_selection import KFold\n",
    "from sklearn.metrics import mean_squared_error"
   ]
  },
  {
   "cell_type": "code",
   "execution_count": 6,
   "metadata": {},
   "outputs": [],
   "source": [
    "def kfold_mse(X, y, model, k=10):\n",
    "    kf = KFold(n_splits=k)\n",
    "    mses = []\n",
    "    for i, (train_idx, val_idx) in enumerate(kf.split(X, y)):\n",
    "        X_train, X_val = X.iloc[train_idx], X.iloc[val_idx]\n",
    "        y_train, y_val = y.iloc[train_idx], y.iloc[val_idx]\n",
    "        model.fit(X_train, y_train['sales']) # Avoid deprecation warning\n",
    "        y_pred = model.predict(X_val)\n",
    "        mses.append(mean_squared_error(y_pred, y_val['sales']))\n",
    "    return mses"
   ]
  },
  {
   "attachments": {},
   "cell_type": "markdown",
   "metadata": {},
   "source": [
    "We shall concern only `ccp_alpha`, `max_depth` and `min_samples_leaf` in this project. `n_estimators`, `max_features`, `min_samples_split`, are fixed to 1000, `sqrt` and 0.01. Actually, using more estimators is better as random forest does not overfit. 1000 is a good number to stay within computational time limits."
   ]
  },
  {
   "cell_type": "code",
   "execution_count": 7,
   "metadata": {},
   "outputs": [],
   "source": [
    "ccp_alphas = [0.0, 0.01, 0.05]\n",
    "min_samples_leafs = [1, 3, 5, 10]\n",
    "max_depths = [None, 3, 5, 10]"
   ]
  },
  {
   "cell_type": "code",
   "execution_count": 8,
   "metadata": {},
   "outputs": [],
   "source": [
    "from sklearn.ensemble import RandomForestRegressor"
   ]
  },
  {
   "cell_type": "code",
   "execution_count": 9,
   "metadata": {},
   "outputs": [
    {
     "name": "stdout",
     "output_type": "stream",
     "text": [
      "ccp_alpha: 0.0, max_depth: None, min_samples_leaf: 1, avg_mse: 365.2329653790077\n",
      "ccp_alpha: 0.0, max_depth: None, min_samples_leaf: 3, avg_mse: 374.8186598227851\n",
      "ccp_alpha: 0.0, max_depth: None, min_samples_leaf: 5, avg_mse: 384.86975410428727\n",
      "ccp_alpha: 0.0, max_depth: None, min_samples_leaf: 10, avg_mse: 405.8773045096028\n",
      "ccp_alpha: 0.0, max_depth: 3, min_samples_leaf: 1, avg_mse: 571.4343714397394\n",
      "ccp_alpha: 0.0, max_depth: 3, min_samples_leaf: 3, avg_mse: 564.7067592168867\n",
      "ccp_alpha: 0.0, max_depth: 3, min_samples_leaf: 5, avg_mse: 562.9080473056408\n",
      "ccp_alpha: 0.0, max_depth: 3, min_samples_leaf: 10, avg_mse: 562.1968424078129\n",
      "ccp_alpha: 0.0, max_depth: 5, min_samples_leaf: 1, avg_mse: 504.5884867096414\n",
      "ccp_alpha: 0.0, max_depth: 5, min_samples_leaf: 3, avg_mse: 495.8447190511608\n",
      "ccp_alpha: 0.0, max_depth: 5, min_samples_leaf: 5, avg_mse: 493.057937778591\n",
      "ccp_alpha: 0.0, max_depth: 5, min_samples_leaf: 10, avg_mse: 493.5251392898041\n",
      "ccp_alpha: 0.0, max_depth: 10, min_samples_leaf: 1, avg_mse: 410.4281168525842\n",
      "ccp_alpha: 0.0, max_depth: 10, min_samples_leaf: 3, avg_mse: 407.28765406151035\n",
      "ccp_alpha: 0.0, max_depth: 10, min_samples_leaf: 5, avg_mse: 408.9360374167979\n",
      "ccp_alpha: 0.0, max_depth: 10, min_samples_leaf: 10, avg_mse: 419.76698318213414\n",
      "ccp_alpha: 0.01, max_depth: None, min_samples_leaf: 1, avg_mse: 365.2203368487584\n",
      "ccp_alpha: 0.01, max_depth: None, min_samples_leaf: 3, avg_mse: 374.8073705710261\n",
      "ccp_alpha: 0.01, max_depth: None, min_samples_leaf: 5, avg_mse: 384.8634298906199\n",
      "ccp_alpha: 0.01, max_depth: None, min_samples_leaf: 10, avg_mse: 405.8736260598013\n",
      "ccp_alpha: 0.01, max_depth: 3, min_samples_leaf: 1, avg_mse: 571.43430039444\n",
      "ccp_alpha: 0.01, max_depth: 3, min_samples_leaf: 3, avg_mse: 564.7067783082925\n",
      "ccp_alpha: 0.01, max_depth: 3, min_samples_leaf: 5, avg_mse: 562.9079685717061\n",
      "ccp_alpha: 0.01, max_depth: 3, min_samples_leaf: 10, avg_mse: 562.1966459146042\n",
      "ccp_alpha: 0.01, max_depth: 5, min_samples_leaf: 1, avg_mse: 504.5868301160701\n",
      "ccp_alpha: 0.01, max_depth: 5, min_samples_leaf: 3, avg_mse: 495.84314446998377\n",
      "ccp_alpha: 0.01, max_depth: 5, min_samples_leaf: 5, avg_mse: 493.05637861703644\n",
      "ccp_alpha: 0.01, max_depth: 5, min_samples_leaf: 10, avg_mse: 493.5240568606726\n",
      "ccp_alpha: 0.01, max_depth: 10, min_samples_leaf: 1, avg_mse: 410.41731678816996\n",
      "ccp_alpha: 0.01, max_depth: 10, min_samples_leaf: 3, avg_mse: 407.27666160644884\n",
      "ccp_alpha: 0.01, max_depth: 10, min_samples_leaf: 5, avg_mse: 408.9301607907291\n",
      "ccp_alpha: 0.01, max_depth: 10, min_samples_leaf: 10, avg_mse: 419.76225404342796\n",
      "ccp_alpha: 0.05, max_depth: None, min_samples_leaf: 1, avg_mse: 365.1962080458769\n",
      "ccp_alpha: 0.05, max_depth: None, min_samples_leaf: 3, avg_mse: 374.7757203083564\n",
      "ccp_alpha: 0.05, max_depth: None, min_samples_leaf: 5, avg_mse: 384.8307620966867\n",
      "ccp_alpha: 0.05, max_depth: None, min_samples_leaf: 10, avg_mse: 405.8682914926952\n",
      "ccp_alpha: 0.05, max_depth: 3, min_samples_leaf: 1, avg_mse: 571.4353638471107\n",
      "ccp_alpha: 0.05, max_depth: 3, min_samples_leaf: 3, avg_mse: 564.7066388900206\n",
      "ccp_alpha: 0.05, max_depth: 3, min_samples_leaf: 5, avg_mse: 562.9067817306543\n",
      "ccp_alpha: 0.05, max_depth: 3, min_samples_leaf: 10, avg_mse: 562.1953860435593\n",
      "ccp_alpha: 0.05, max_depth: 5, min_samples_leaf: 1, avg_mse: 504.5803574216926\n",
      "ccp_alpha: 0.05, max_depth: 5, min_samples_leaf: 3, avg_mse: 495.8309862003406\n",
      "ccp_alpha: 0.05, max_depth: 5, min_samples_leaf: 5, avg_mse: 493.0442958547509\n",
      "ccp_alpha: 0.05, max_depth: 5, min_samples_leaf: 10, avg_mse: 493.51045912571954\n",
      "ccp_alpha: 0.05, max_depth: 10, min_samples_leaf: 1, avg_mse: 410.37122406339614\n",
      "ccp_alpha: 0.05, max_depth: 10, min_samples_leaf: 3, avg_mse: 407.21811356199447\n",
      "ccp_alpha: 0.05, max_depth: 10, min_samples_leaf: 5, avg_mse: 408.8912716645092\n",
      "ccp_alpha: 0.05, max_depth: 10, min_samples_leaf: 10, avg_mse: 419.74059850955643\n"
     ]
    }
   ],
   "source": [
    "best_mses = []\n",
    "best_avg_score = 1e9\n",
    "best_ccp_alpha = None\n",
    "best_depth = None\n",
    "best_min_samples_leaf = None\n",
    "for ccp_alpha in ccp_alphas:\n",
    "    for depth in max_depths:\n",
    "        for min_samples_leaf in min_samples_leafs:\n",
    "            model = RandomForestRegressor(ccp_alpha=ccp_alpha, max_depth=depth, min_samples_leaf=min_samples_leaf, random_state=42, min_samples_split=0.01, max_features='sqrt', n_estimators=1000)\n",
    "            mses = kfold_mse(X_train, y_train, model)\n",
    "            if np.mean(mses) < best_avg_score:\n",
    "                best_avg_score = np.mean(mses)\n",
    "                best_ccp_alpha = ccp_alpha\n",
    "                best_depth = depth\n",
    "                best_min_samples_leaf = min_samples_leaf\n",
    "                best_mses = mses\n",
    "            print(f'ccp_alpha: {ccp_alpha}, max_depth: {depth}, min_samples_leaf: {min_samples_leaf}, avg_mse: {np.mean(mses)}')"
   ]
  },
  {
   "attachments": {},
   "cell_type": "markdown",
   "metadata": {},
   "source": [
    "### In-sample analysis"
   ]
  },
  {
   "cell_type": "code",
   "execution_count": 10,
   "metadata": {},
   "outputs": [
    {
     "data": {
      "text/html": [
       "<div>\n",
       "<style scoped>\n",
       "    .dataframe tbody tr th:only-of-type {\n",
       "        vertical-align: middle;\n",
       "    }\n",
       "\n",
       "    .dataframe tbody tr th {\n",
       "        vertical-align: top;\n",
       "    }\n",
       "\n",
       "    .dataframe thead th {\n",
       "        text-align: right;\n",
       "    }\n",
       "</style>\n",
       "<table border=\"1\" class=\"dataframe\">\n",
       "  <thead>\n",
       "    <tr style=\"text-align: right;\">\n",
       "      <th></th>\n",
       "      <th>Cross-Validation MSE</th>\n",
       "    </tr>\n",
       "  </thead>\n",
       "  <tbody>\n",
       "    <tr>\n",
       "      <th>0</th>\n",
       "      <td>303.500274</td>\n",
       "    </tr>\n",
       "    <tr>\n",
       "      <th>1</th>\n",
       "      <td>151.985123</td>\n",
       "    </tr>\n",
       "    <tr>\n",
       "      <th>2</th>\n",
       "      <td>422.033843</td>\n",
       "    </tr>\n",
       "    <tr>\n",
       "      <th>3</th>\n",
       "      <td>273.992864</td>\n",
       "    </tr>\n",
       "    <tr>\n",
       "      <th>4</th>\n",
       "      <td>342.346263</td>\n",
       "    </tr>\n",
       "    <tr>\n",
       "      <th>5</th>\n",
       "      <td>154.503412</td>\n",
       "    </tr>\n",
       "    <tr>\n",
       "      <th>6</th>\n",
       "      <td>571.606804</td>\n",
       "    </tr>\n",
       "    <tr>\n",
       "      <th>7</th>\n",
       "      <td>341.983707</td>\n",
       "    </tr>\n",
       "    <tr>\n",
       "      <th>8</th>\n",
       "      <td>963.666237</td>\n",
       "    </tr>\n",
       "    <tr>\n",
       "      <th>9</th>\n",
       "      <td>126.343554</td>\n",
       "    </tr>\n",
       "  </tbody>\n",
       "</table>\n",
       "</div>"
      ],
      "text/plain": [
       "   Cross-Validation MSE\n",
       "0            303.500274\n",
       "1            151.985123\n",
       "2            422.033843\n",
       "3            273.992864\n",
       "4            342.346263\n",
       "5            154.503412\n",
       "6            571.606804\n",
       "7            341.983707\n",
       "8            963.666237\n",
       "9            126.343554"
      ]
     },
     "execution_count": 10,
     "metadata": {},
     "output_type": "execute_result"
    }
   ],
   "source": [
    "cv_df = pd.DataFrame(best_mses, columns=['Cross-Validation MSE'])\n",
    "cv_df"
   ]
  },
  {
   "cell_type": "code",
   "execution_count": 11,
   "metadata": {},
   "outputs": [],
   "source": [
    "cv_df.to_csv('data/output/cv/rf_sta.csv')"
   ]
  },
  {
   "cell_type": "code",
   "execution_count": 12,
   "metadata": {},
   "outputs": [
    {
     "name": "stdout",
     "output_type": "stream",
     "text": [
      "best ccp_alpha: 0.05, best max_depth: None, best min_samples_leaf: 1, best avg_mse: 365.1962080458769\n"
     ]
    }
   ],
   "source": [
    "print(f'best ccp_alpha: {best_ccp_alpha}, best max_depth: {best_depth}, best min_samples_leaf: {best_min_samples_leaf}, best avg_mse: {np.mean(best_mses)}')"
   ]
  }
 ],
 "metadata": {
  "kernelspec": {
   "display_name": "IE4211",
   "language": "python",
   "name": "python3"
  },
  "language_info": {
   "codemirror_mode": {
    "name": "ipython",
    "version": 3
   },
   "file_extension": ".py",
   "mimetype": "text/x-python",
   "name": "python",
   "nbconvert_exporter": "python",
   "pygments_lexer": "ipython3",
   "version": "3.9.13"
  },
  "orig_nbformat": 4
 },
 "nbformat": 4,
 "nbformat_minor": 2
}
