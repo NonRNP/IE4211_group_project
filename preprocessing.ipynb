{
 "cells": [
  {
   "cell_type": "code",
   "execution_count": 1,
   "metadata": {},
   "outputs": [],
   "source": [
    "import numpy as np\n",
    "import pandas as pd\n",
    "from matplotlib import pyplot as plt"
   ]
  },
  {
   "attachments": {},
   "cell_type": "markdown",
   "metadata": {},
   "source": [
    "As usual, first we need to read the datasets."
   ]
  },
  {
   "cell_type": "code",
   "execution_count": 2,
   "metadata": {},
   "outputs": [],
   "source": [
    "train = pd.read_csv('Data-train.csv', index_col=0)\n",
    "test = pd.read_csv('Data-test.csv', index_col=0)"
   ]
  },
  {
   "cell_type": "code",
   "execution_count": 3,
   "metadata": {},
   "outputs": [
    {
     "data": {
      "text/html": [
       "<div>\n",
       "<style scoped>\n",
       "    .dataframe tbody tr th:only-of-type {\n",
       "        vertical-align: middle;\n",
       "    }\n",
       "\n",
       "    .dataframe tbody tr th {\n",
       "        vertical-align: top;\n",
       "    }\n",
       "\n",
       "    .dataframe thead th {\n",
       "        text-align: right;\n",
       "    }\n",
       "</style>\n",
       "<table border=\"1\" class=\"dataframe\">\n",
       "  <thead>\n",
       "    <tr style=\"text-align: right;\">\n",
       "      <th></th>\n",
       "      <th>productID</th>\n",
       "      <th>brandID</th>\n",
       "      <th>attribute1</th>\n",
       "      <th>attribute2</th>\n",
       "      <th>attribute3</th>\n",
       "      <th>attribute4</th>\n",
       "      <th>clickVolume</th>\n",
       "      <th>avgOriginalUnitPrice</th>\n",
       "      <th>avgFinalUnitPrice</th>\n",
       "      <th>ma14SalesVolume</th>\n",
       "      <th>weekday</th>\n",
       "      <th>meanAge</th>\n",
       "      <th>gender</th>\n",
       "      <th>meanEducation</th>\n",
       "      <th>maritalStatus</th>\n",
       "      <th>plus</th>\n",
       "      <th>meanPurchasePower</th>\n",
       "      <th>meanUserLevel</th>\n",
       "      <th>meanCityLevel</th>\n",
       "      <th>sales</th>\n",
       "    </tr>\n",
       "  </thead>\n",
       "  <tbody>\n",
       "    <tr>\n",
       "      <th>0</th>\n",
       "      <td>63</td>\n",
       "      <td>24</td>\n",
       "      <td>3.0</td>\n",
       "      <td>60.0</td>\n",
       "      <td>3</td>\n",
       "      <td>6.442475</td>\n",
       "      <td>319.0</td>\n",
       "      <td>108.0</td>\n",
       "      <td>86.142857</td>\n",
       "      <td>3.500000</td>\n",
       "      <td>6</td>\n",
       "      <td>28.000000</td>\n",
       "      <td>0.400000</td>\n",
       "      <td>3.000000</td>\n",
       "      <td>0.800000</td>\n",
       "      <td>0.000000</td>\n",
       "      <td>2.200000</td>\n",
       "      <td>2.666667</td>\n",
       "      <td>2.250000</td>\n",
       "      <td>7</td>\n",
       "    </tr>\n",
       "    <tr>\n",
       "      <th>1</th>\n",
       "      <td>25</td>\n",
       "      <td>23</td>\n",
       "      <td>3.0</td>\n",
       "      <td>60.0</td>\n",
       "      <td>1</td>\n",
       "      <td>9.235513</td>\n",
       "      <td>343.0</td>\n",
       "      <td>79.0</td>\n",
       "      <td>48.985714</td>\n",
       "      <td>21.142857</td>\n",
       "      <td>7</td>\n",
       "      <td>32.444444</td>\n",
       "      <td>0.222222</td>\n",
       "      <td>3.333333</td>\n",
       "      <td>0.555556</td>\n",
       "      <td>0.181818</td>\n",
       "      <td>2.333333</td>\n",
       "      <td>3.000000</td>\n",
       "      <td>1.777778</td>\n",
       "      <td>14</td>\n",
       "    </tr>\n",
       "    <tr>\n",
       "      <th>2</th>\n",
       "      <td>84</td>\n",
       "      <td>26</td>\n",
       "      <td>3.0</td>\n",
       "      <td>60.0</td>\n",
       "      <td>2</td>\n",
       "      <td>5.714287</td>\n",
       "      <td>977.0</td>\n",
       "      <td>79.9</td>\n",
       "      <td>40.448333</td>\n",
       "      <td>36.214286</td>\n",
       "      <td>6</td>\n",
       "      <td>32.954545</td>\n",
       "      <td>0.431818</td>\n",
       "      <td>3.441860</td>\n",
       "      <td>0.727273</td>\n",
       "      <td>0.555556</td>\n",
       "      <td>2.181818</td>\n",
       "      <td>3.133333</td>\n",
       "      <td>2.000000</td>\n",
       "      <td>60</td>\n",
       "    </tr>\n",
       "    <tr>\n",
       "      <th>3</th>\n",
       "      <td>0</td>\n",
       "      <td>5</td>\n",
       "      <td>3.0</td>\n",
       "      <td>90.0</td>\n",
       "      <td>4</td>\n",
       "      <td>25.848665</td>\n",
       "      <td>242.0</td>\n",
       "      <td>129.0</td>\n",
       "      <td>129.000000</td>\n",
       "      <td>8.928571</td>\n",
       "      <td>6</td>\n",
       "      <td>40.000000</td>\n",
       "      <td>0.500000</td>\n",
       "      <td>3.500000</td>\n",
       "      <td>1.000000</td>\n",
       "      <td>0.500000</td>\n",
       "      <td>2.500000</td>\n",
       "      <td>3.000000</td>\n",
       "      <td>1.000000</td>\n",
       "      <td>2</td>\n",
       "    </tr>\n",
       "    <tr>\n",
       "      <th>4</th>\n",
       "      <td>40</td>\n",
       "      <td>14</td>\n",
       "      <td>3.0</td>\n",
       "      <td>80.0</td>\n",
       "      <td>4</td>\n",
       "      <td>16.480457</td>\n",
       "      <td>681.0</td>\n",
       "      <td>79.0</td>\n",
       "      <td>68.533333</td>\n",
       "      <td>18.214286</td>\n",
       "      <td>5</td>\n",
       "      <td>33.333333</td>\n",
       "      <td>0.083333</td>\n",
       "      <td>2.900000</td>\n",
       "      <td>0.800000</td>\n",
       "      <td>0.000000</td>\n",
       "      <td>2.500000</td>\n",
       "      <td>2.142857</td>\n",
       "      <td>2.900000</td>\n",
       "      <td>15</td>\n",
       "    </tr>\n",
       "  </tbody>\n",
       "</table>\n",
       "</div>"
      ],
      "text/plain": [
       "   productID  brandID  attribute1  attribute2  attribute3  attribute4  \\\n",
       "0         63       24         3.0        60.0           3    6.442475   \n",
       "1         25       23         3.0        60.0           1    9.235513   \n",
       "2         84       26         3.0        60.0           2    5.714287   \n",
       "3          0        5         3.0        90.0           4   25.848665   \n",
       "4         40       14         3.0        80.0           4   16.480457   \n",
       "\n",
       "   clickVolume  avgOriginalUnitPrice  avgFinalUnitPrice  ma14SalesVolume  \\\n",
       "0        319.0                 108.0          86.142857         3.500000   \n",
       "1        343.0                  79.0          48.985714        21.142857   \n",
       "2        977.0                  79.9          40.448333        36.214286   \n",
       "3        242.0                 129.0         129.000000         8.928571   \n",
       "4        681.0                  79.0          68.533333        18.214286   \n",
       "\n",
       "   weekday    meanAge    gender  meanEducation  maritalStatus      plus  \\\n",
       "0        6  28.000000  0.400000       3.000000       0.800000  0.000000   \n",
       "1        7  32.444444  0.222222       3.333333       0.555556  0.181818   \n",
       "2        6  32.954545  0.431818       3.441860       0.727273  0.555556   \n",
       "3        6  40.000000  0.500000       3.500000       1.000000  0.500000   \n",
       "4        5  33.333333  0.083333       2.900000       0.800000  0.000000   \n",
       "\n",
       "   meanPurchasePower  meanUserLevel  meanCityLevel  sales  \n",
       "0           2.200000       2.666667       2.250000      7  \n",
       "1           2.333333       3.000000       1.777778     14  \n",
       "2           2.181818       3.133333       2.000000     60  \n",
       "3           2.500000       3.000000       1.000000      2  \n",
       "4           2.500000       2.142857       2.900000     15  "
      ]
     },
     "execution_count": 3,
     "metadata": {},
     "output_type": "execute_result"
    }
   ],
   "source": [
    "train.head()"
   ]
  },
  {
   "cell_type": "code",
   "execution_count": 4,
   "metadata": {},
   "outputs": [
    {
     "data": {
      "text/plain": [
       "(2211, 20)"
      ]
     },
     "execution_count": 4,
     "metadata": {},
     "output_type": "execute_result"
    }
   ],
   "source": [
    "train.shape"
   ]
  },
  {
   "cell_type": "code",
   "execution_count": 5,
   "metadata": {},
   "outputs": [
    {
     "data": {
      "text/plain": [
       "(1475, 19)"
      ]
     },
     "execution_count": 5,
     "metadata": {},
     "output_type": "execute_result"
    }
   ],
   "source": [
    "test.shape"
   ]
  },
  {
   "attachments": {},
   "cell_type": "markdown",
   "metadata": {},
   "source": [
    "The first step is to remove NA values as they wreck any model."
   ]
  },
  {
   "cell_type": "code",
   "execution_count": 6,
   "metadata": {},
   "outputs": [
    {
     "data": {
      "text/plain": [
       "productID               0\n",
       "brandID                 0\n",
       "attribute1              0\n",
       "attribute2              0\n",
       "attribute3              0\n",
       "attribute4              0\n",
       "clickVolume             0\n",
       "avgOriginalUnitPrice    0\n",
       "avgFinalUnitPrice       0\n",
       "ma14SalesVolume         0\n",
       "weekday                 0\n",
       "meanAge                 0\n",
       "gender                  0\n",
       "meanEducation           0\n",
       "maritalStatus           0\n",
       "plus                    0\n",
       "meanPurchasePower       0\n",
       "meanUserLevel           0\n",
       "meanCityLevel           0\n",
       "sales                   0\n",
       "dtype: int64"
      ]
     },
     "execution_count": 6,
     "metadata": {},
     "output_type": "execute_result"
    }
   ],
   "source": [
    "train.isna().sum()"
   ]
  },
  {
   "cell_type": "code",
   "execution_count": 7,
   "metadata": {},
   "outputs": [
    {
     "data": {
      "text/plain": [
       "productID               0\n",
       "brandID                 0\n",
       "attribute1              0\n",
       "attribute2              0\n",
       "attribute3              0\n",
       "attribute4              0\n",
       "clickVolume             0\n",
       "avgOriginalUnitPrice    0\n",
       "avgFinalUnitPrice       0\n",
       "ma14SalesVolume         0\n",
       "weekday                 0\n",
       "meanAge                 0\n",
       "gender                  0\n",
       "meanEducation           0\n",
       "maritalStatus           0\n",
       "plus                    0\n",
       "meanPurchasePower       0\n",
       "meanUserLevel           0\n",
       "meanCityLevel           0\n",
       "dtype: int64"
      ]
     },
     "execution_count": 7,
     "metadata": {},
     "output_type": "execute_result"
    }
   ],
   "source": [
    "test.isna().sum()"
   ]
  },
  {
   "attachments": {},
   "cell_type": "markdown",
   "metadata": {},
   "source": [
    "Fortunately, our datasets are already clean and do not contain any NA values. Now, we can extract predictors and labels for the training dataset."
   ]
  },
  {
   "cell_type": "code",
   "execution_count": 8,
   "metadata": {},
   "outputs": [],
   "source": [
    "X_train = train.drop('sales', axis=1)\n",
    "y = train['sales']"
   ]
  },
  {
   "attachments": {},
   "cell_type": "markdown",
   "metadata": {},
   "source": [
    "From the project description, we can determine whether a predictor is categorical for most predictors, except for the four different product attributes. Hence, let's explore them here."
   ]
  },
  {
   "cell_type": "code",
   "execution_count": 9,
   "metadata": {},
   "outputs": [
    {
     "data": {
      "text/plain": [
       "productID                 75\n",
       "brandID                   31\n",
       "attribute1                 3\n",
       "attribute2                 7\n",
       "attribute3                31\n",
       "attribute4              2211\n",
       "clickVolume             1096\n",
       "avgOriginalUnitPrice     346\n",
       "avgFinalUnitPrice       1791\n",
       "ma14SalesVolume          658\n",
       "weekday                    7\n",
       "meanAge                  613\n",
       "gender                   298\n",
       "meanEducation            341\n",
       "maritalStatus            284\n",
       "plus                     304\n",
       "meanPurchasePower        292\n",
       "meanUserLevel            564\n",
       "meanCityLevel            403\n",
       "sales                    126\n",
       "dtype: int64"
      ]
     },
     "execution_count": 9,
     "metadata": {},
     "output_type": "execute_result"
    }
   ],
   "source": [
    "train.nunique()"
   ]
  },
  {
   "cell_type": "code",
   "execution_count": 10,
   "metadata": {},
   "outputs": [
    {
     "data": {
      "text/plain": [
       "productID                 75\n",
       "brandID                   31\n",
       "attribute1                 3\n",
       "attribute2                 7\n",
       "attribute3                30\n",
       "attribute4              1475\n",
       "clickVolume              879\n",
       "avgOriginalUnitPrice     242\n",
       "avgFinalUnitPrice       1243\n",
       "ma14SalesVolume          554\n",
       "weekday                    7\n",
       "meanAge                  461\n",
       "gender                   228\n",
       "meanEducation            266\n",
       "maritalStatus            233\n",
       "plus                     231\n",
       "meanPurchasePower        226\n",
       "meanUserLevel            423\n",
       "meanCityLevel            326\n",
       "dtype: int64"
      ]
     },
     "execution_count": 10,
     "metadata": {},
     "output_type": "execute_result"
    }
   ],
   "source": [
    "test.nunique()"
   ]
  },
  {
   "attachments": {},
   "cell_type": "markdown",
   "metadata": {},
   "source": [
    "While `attribute1` and `attribute2` are categorical, `attribute3` can either be categorical or continuous. However, common sense here implies it is categorical since there are only 31 different values for more than 2000 observations and it must be that a category is not visible in test observations. `attribute4` is clearly continuous."
   ]
  },
  {
   "attachments": {},
   "cell_type": "markdown",
   "metadata": {},
   "source": [
    "We need to explore the response variable so as to make any transformations if necessary."
   ]
  },
  {
   "cell_type": "code",
   "execution_count": 11,
   "metadata": {},
   "outputs": [
    {
     "data": {
      "image/png": "[encoded data removed]",
      "text/plain": [
       "<Figure size 640x480 with 1 Axes>"
      ]
     },
     "metadata": {},
     "output_type": "display_data"
    }
   ],
   "source": [
    "plt.boxplot(y)\n",
    "plt.xlabel('Sales')\n",
    "plt.ylabel('Frequency')\n",
    "plt.show()"
   ]
  },
  {
   "attachments": {},
   "cell_type": "markdown",
   "metadata": {},
   "source": [
    "Since there is a considerable number of outliers, we should log transform 'Sales' and use it as the response variable."
   ]
  },
  {
   "cell_type": "code",
   "execution_count": 12,
   "metadata": {},
   "outputs": [],
   "source": [
    "y_log = np.log(y)"
   ]
  },
  {
   "attachments": {},
   "cell_type": "markdown",
   "metadata": {},
   "source": [
    "We use histogram to visualize the distribution of y and y_log. "
   ]
  },
  {
   "cell_type": "code",
   "execution_count": 13,
   "metadata": {},
   "outputs": [
    {
     "data": {
      "image/png": "[encoded data removed]",
      "text/plain": [
       "<Figure size 1000x500 with 2 Axes>"
      ]
     },
     "metadata": {},
     "output_type": "display_data"
    }
   ],
   "source": [
    "fig, ax = plt.subplots(1, 2, figsize=(10, 5))\n",
    "ax[0].hist(y, bins=100)\n",
    "ax[0].set_title('Sales')\n",
    "ax[1].hist(y_log, bins=100)\n",
    "ax[1].set_title('Log Sales')\n",
    "plt.show()"
   ]
  },
  {
   "attachments": {},
   "cell_type": "markdown",
   "metadata": {},
   "source": [
    "Combine the training and test datasets guarantees correctness when performing one-hot encoding and standardization."
   ]
  },
  {
   "cell_type": "code",
   "execution_count": 14,
   "metadata": {},
   "outputs": [],
   "source": [
    "combined = pd.concat([X_train, test])"
   ]
  },
  {
   "cell_type": "code",
   "execution_count": 15,
   "metadata": {},
   "outputs": [
    {
     "data": {
      "text/plain": [
       "(3686, 19)"
      ]
     },
     "execution_count": 15,
     "metadata": {},
     "output_type": "execute_result"
    }
   ],
   "source": [
    "combined.shape"
   ]
  },
  {
   "attachments": {},
   "cell_type": "markdown",
   "metadata": {},
   "source": [
    "We need to convert the categorical predictors to dummy variables."
   ]
  },
  {
   "cell_type": "code",
   "execution_count": 16,
   "metadata": {},
   "outputs": [],
   "source": [
    "categorical_cols = ['productID', 'brandID', 'attribute1', 'attribute2', 'attribute3', 'weekday']"
   ]
  },
  {
   "cell_type": "code",
   "execution_count": 17,
   "metadata": {},
   "outputs": [],
   "source": [
    "combined = pd.get_dummies(combined, columns=categorical_cols, drop_first=True)"
   ]
  },
  {
   "cell_type": "code",
   "execution_count": 18,
   "metadata": {},
   "outputs": [
    {
     "data": {
      "text/html": [
       "<div>\n",
       "<style scoped>\n",
       "    .dataframe tbody tr th:only-of-type {\n",
       "        vertical-align: middle;\n",
       "    }\n",
       "\n",
       "    .dataframe tbody tr th {\n",
       "        vertical-align: top;\n",
       "    }\n",
       "\n",
       "    .dataframe thead th {\n",
       "        text-align: right;\n",
       "    }\n",
       "</style>\n",
       "<table border=\"1\" class=\"dataframe\">\n",
       "  <thead>\n",
       "    <tr style=\"text-align: right;\">\n",
       "      <th></th>\n",
       "      <th>attribute4</th>\n",
       "      <th>clickVolume</th>\n",
       "      <th>avgOriginalUnitPrice</th>\n",
       "      <th>avgFinalUnitPrice</th>\n",
       "      <th>ma14SalesVolume</th>\n",
       "      <th>meanAge</th>\n",
       "      <th>gender</th>\n",
       "      <th>meanEducation</th>\n",
       "      <th>maritalStatus</th>\n",
       "      <th>plus</th>\n",
       "      <th>...</th>\n",
       "      <th>attribute3_34</th>\n",
       "      <th>attribute3_35</th>\n",
       "      <th>attribute3_39</th>\n",
       "      <th>attribute3_41</th>\n",
       "      <th>weekday_2</th>\n",
       "      <th>weekday_3</th>\n",
       "      <th>weekday_4</th>\n",
       "      <th>weekday_5</th>\n",
       "      <th>weekday_6</th>\n",
       "      <th>weekday_7</th>\n",
       "    </tr>\n",
       "  </thead>\n",
       "  <tbody>\n",
       "    <tr>\n",
       "      <th>0</th>\n",
       "      <td>6.442475</td>\n",
       "      <td>319.0</td>\n",
       "      <td>108.0</td>\n",
       "      <td>86.142857</td>\n",
       "      <td>3.500000</td>\n",
       "      <td>28.000000</td>\n",
       "      <td>0.400000</td>\n",
       "      <td>3.000000</td>\n",
       "      <td>0.800000</td>\n",
       "      <td>0.000000</td>\n",
       "      <td>...</td>\n",
       "      <td>0</td>\n",
       "      <td>0</td>\n",
       "      <td>0</td>\n",
       "      <td>0</td>\n",
       "      <td>0</td>\n",
       "      <td>0</td>\n",
       "      <td>0</td>\n",
       "      <td>0</td>\n",
       "      <td>1</td>\n",
       "      <td>0</td>\n",
       "    </tr>\n",
       "    <tr>\n",
       "      <th>1</th>\n",
       "      <td>9.235513</td>\n",
       "      <td>343.0</td>\n",
       "      <td>79.0</td>\n",
       "      <td>48.985714</td>\n",
       "      <td>21.142857</td>\n",
       "      <td>32.444444</td>\n",
       "      <td>0.222222</td>\n",
       "      <td>3.333333</td>\n",
       "      <td>0.555556</td>\n",
       "      <td>0.181818</td>\n",
       "      <td>...</td>\n",
       "      <td>0</td>\n",
       "      <td>0</td>\n",
       "      <td>0</td>\n",
       "      <td>0</td>\n",
       "      <td>0</td>\n",
       "      <td>0</td>\n",
       "      <td>0</td>\n",
       "      <td>0</td>\n",
       "      <td>0</td>\n",
       "      <td>1</td>\n",
       "    </tr>\n",
       "    <tr>\n",
       "      <th>2</th>\n",
       "      <td>5.714287</td>\n",
       "      <td>977.0</td>\n",
       "      <td>79.9</td>\n",
       "      <td>40.448333</td>\n",
       "      <td>36.214286</td>\n",
       "      <td>32.954545</td>\n",
       "      <td>0.431818</td>\n",
       "      <td>3.441860</td>\n",
       "      <td>0.727273</td>\n",
       "      <td>0.555556</td>\n",
       "      <td>...</td>\n",
       "      <td>0</td>\n",
       "      <td>0</td>\n",
       "      <td>0</td>\n",
       "      <td>0</td>\n",
       "      <td>0</td>\n",
       "      <td>0</td>\n",
       "      <td>0</td>\n",
       "      <td>0</td>\n",
       "      <td>1</td>\n",
       "      <td>0</td>\n",
       "    </tr>\n",
       "    <tr>\n",
       "      <th>3</th>\n",
       "      <td>25.848665</td>\n",
       "      <td>242.0</td>\n",
       "      <td>129.0</td>\n",
       "      <td>129.000000</td>\n",
       "      <td>8.928571</td>\n",
       "      <td>40.000000</td>\n",
       "      <td>0.500000</td>\n",
       "      <td>3.500000</td>\n",
       "      <td>1.000000</td>\n",
       "      <td>0.500000</td>\n",
       "      <td>...</td>\n",
       "      <td>0</td>\n",
       "      <td>0</td>\n",
       "      <td>0</td>\n",
       "      <td>0</td>\n",
       "      <td>0</td>\n",
       "      <td>0</td>\n",
       "      <td>0</td>\n",
       "      <td>0</td>\n",
       "      <td>1</td>\n",
       "      <td>0</td>\n",
       "    </tr>\n",
       "    <tr>\n",
       "      <th>4</th>\n",
       "      <td>16.480457</td>\n",
       "      <td>681.0</td>\n",
       "      <td>79.0</td>\n",
       "      <td>68.533333</td>\n",
       "      <td>18.214286</td>\n",
       "      <td>33.333333</td>\n",
       "      <td>0.083333</td>\n",
       "      <td>2.900000</td>\n",
       "      <td>0.800000</td>\n",
       "      <td>0.000000</td>\n",
       "      <td>...</td>\n",
       "      <td>0</td>\n",
       "      <td>0</td>\n",
       "      <td>0</td>\n",
       "      <td>0</td>\n",
       "      <td>0</td>\n",
       "      <td>0</td>\n",
       "      <td>0</td>\n",
       "      <td>1</td>\n",
       "      <td>0</td>\n",
       "      <td>0</td>\n",
       "    </tr>\n",
       "  </tbody>\n",
       "</table>\n",
       "<p>5 rows × 165 columns</p>\n",
       "</div>"
      ],
      "text/plain": [
       "   attribute4  clickVolume  avgOriginalUnitPrice  avgFinalUnitPrice  \\\n",
       "0    6.442475        319.0                 108.0          86.142857   \n",
       "1    9.235513        343.0                  79.0          48.985714   \n",
       "2    5.714287        977.0                  79.9          40.448333   \n",
       "3   25.848665        242.0                 129.0         129.000000   \n",
       "4   16.480457        681.0                  79.0          68.533333   \n",
       "\n",
       "   ma14SalesVolume    meanAge    gender  meanEducation  maritalStatus  \\\n",
       "0         3.500000  28.000000  0.400000       3.000000       0.800000   \n",
       "1        21.142857  32.444444  0.222222       3.333333       0.555556   \n",
       "2        36.214286  32.954545  0.431818       3.441860       0.727273   \n",
       "3         8.928571  40.000000  0.500000       3.500000       1.000000   \n",
       "4        18.214286  33.333333  0.083333       2.900000       0.800000   \n",
       "\n",
       "       plus  ...  attribute3_34  attribute3_35  attribute3_39  attribute3_41  \\\n",
       "0  0.000000  ...              0              0              0              0   \n",
       "1  0.181818  ...              0              0              0              0   \n",
       "2  0.555556  ...              0              0              0              0   \n",
       "3  0.500000  ...              0              0              0              0   \n",
       "4  0.000000  ...              0              0              0              0   \n",
       "\n",
       "   weekday_2  weekday_3  weekday_4  weekday_5  weekday_6  weekday_7  \n",
       "0          0          0          0          0          1          0  \n",
       "1          0          0          0          0          0          1  \n",
       "2          0          0          0          0          1          0  \n",
       "3          0          0          0          0          1          0  \n",
       "4          0          0          0          1          0          0  \n",
       "\n",
       "[5 rows x 165 columns]"
      ]
     },
     "execution_count": 18,
     "metadata": {},
     "output_type": "execute_result"
    }
   ],
   "source": [
    "combined.head()"
   ]
  },
  {
   "attachments": {},
   "cell_type": "markdown",
   "metadata": {},
   "source": [
    "While tree-based models do not require standardization, it is a good practice to do so for linear models. Therefore, we will save both the standardized and non-standardized versions."
   ]
  },
  {
   "cell_type": "code",
   "execution_count": 19,
   "metadata": {},
   "outputs": [],
   "source": [
    "non_standardized_X_train = combined.iloc[:X_train.shape[0]]\n",
    "non_standardized_X_test = combined.iloc[X_train.shape[0]:]"
   ]
  },
  {
   "cell_type": "code",
   "execution_count": 20,
   "metadata": {},
   "outputs": [],
   "source": [
    "non_standardized_train = pd.concat([non_standardized_X_train, y], axis=1)\n",
    "non_standardized_train_log_sales = pd.concat([non_standardized_X_train, y_log], axis=1)"
   ]
  },
  {
   "cell_type": "code",
   "execution_count": 21,
   "metadata": {},
   "outputs": [],
   "source": [
    "non_standardized_X_train.to_csv('data/input/non_standardized_X_train.csv')\n",
    "non_standardized_X_test.to_csv('data/input/non_standardized_X_test.csv')"
   ]
  },
  {
   "cell_type": "code",
   "execution_count": 22,
   "metadata": {},
   "outputs": [],
   "source": [
    "non_standardized_train.to_csv('data/input/non_standardized_train.csv')\n",
    "non_standardized_train_log_sales.to_csv('data/input/non_standardized_train_log_sales.csv')"
   ]
  },
  {
   "cell_type": "code",
   "execution_count": 23,
   "metadata": {},
   "outputs": [],
   "source": [
    "from sklearn.preprocessing import StandardScaler\n",
    "ss = StandardScaler(with_mean=False)"
   ]
  },
  {
   "cell_type": "code",
   "execution_count": 24,
   "metadata": {},
   "outputs": [],
   "source": [
    "combined_stan = ss.fit_transform(combined)\n",
    "combined_stan = pd.DataFrame(combined_stan, columns=combined.columns)"
   ]
  },
  {
   "cell_type": "code",
   "execution_count": 25,
   "metadata": {},
   "outputs": [
    {
     "data": {
      "text/html": [
       "<div>\n",
       "<style scoped>\n",
       "    .dataframe tbody tr th:only-of-type {\n",
       "        vertical-align: middle;\n",
       "    }\n",
       "\n",
       "    .dataframe tbody tr th {\n",
       "        vertical-align: top;\n",
       "    }\n",
       "\n",
       "    .dataframe thead th {\n",
       "        text-align: right;\n",
       "    }\n",
       "</style>\n",
       "<table border=\"1\" class=\"dataframe\">\n",
       "  <thead>\n",
       "    <tr style=\"text-align: right;\">\n",
       "      <th></th>\n",
       "      <th>attribute4</th>\n",
       "      <th>clickVolume</th>\n",
       "      <th>avgOriginalUnitPrice</th>\n",
       "      <th>avgFinalUnitPrice</th>\n",
       "      <th>ma14SalesVolume</th>\n",
       "      <th>meanAge</th>\n",
       "      <th>gender</th>\n",
       "      <th>meanEducation</th>\n",
       "      <th>maritalStatus</th>\n",
       "      <th>plus</th>\n",
       "      <th>...</th>\n",
       "      <th>attribute3_34</th>\n",
       "      <th>attribute3_35</th>\n",
       "      <th>attribute3_39</th>\n",
       "      <th>attribute3_41</th>\n",
       "      <th>weekday_2</th>\n",
       "      <th>weekday_3</th>\n",
       "      <th>weekday_4</th>\n",
       "      <th>weekday_5</th>\n",
       "      <th>weekday_6</th>\n",
       "      <th>weekday_7</th>\n",
       "    </tr>\n",
       "  </thead>\n",
       "  <tbody>\n",
       "    <tr>\n",
       "      <th>0</th>\n",
       "      <td>0.430007</td>\n",
       "      <td>0.387152</td>\n",
       "      <td>1.558436</td>\n",
       "      <td>1.443917</td>\n",
       "      <td>0.238142</td>\n",
       "      <td>5.909493</td>\n",
       "      <td>1.791247</td>\n",
       "      <td>9.530718</td>\n",
       "      <td>3.152265</td>\n",
       "      <td>0.000000</td>\n",
       "      <td>...</td>\n",
       "      <td>0.0</td>\n",
       "      <td>0.0</td>\n",
       "      <td>0.0</td>\n",
       "      <td>0.0</td>\n",
       "      <td>0.0</td>\n",
       "      <td>0.0</td>\n",
       "      <td>0.0</td>\n",
       "      <td>0.000000</td>\n",
       "      <td>2.738596</td>\n",
       "      <td>0.000000</td>\n",
       "    </tr>\n",
       "    <tr>\n",
       "      <th>1</th>\n",
       "      <td>0.616430</td>\n",
       "      <td>0.416279</td>\n",
       "      <td>1.139967</td>\n",
       "      <td>0.821093</td>\n",
       "      <td>1.438571</td>\n",
       "      <td>6.847508</td>\n",
       "      <td>0.995137</td>\n",
       "      <td>10.589686</td>\n",
       "      <td>2.189073</td>\n",
       "      <td>0.881213</td>\n",
       "      <td>...</td>\n",
       "      <td>0.0</td>\n",
       "      <td>0.0</td>\n",
       "      <td>0.0</td>\n",
       "      <td>0.0</td>\n",
       "      <td>0.0</td>\n",
       "      <td>0.0</td>\n",
       "      <td>0.0</td>\n",
       "      <td>0.000000</td>\n",
       "      <td>0.000000</td>\n",
       "      <td>3.014627</td>\n",
       "    </tr>\n",
       "    <tr>\n",
       "      <th>2</th>\n",
       "      <td>0.381403</td>\n",
       "      <td>1.185728</td>\n",
       "      <td>1.152954</td>\n",
       "      <td>0.677990</td>\n",
       "      <td>2.464039</td>\n",
       "      <td>6.955167</td>\n",
       "      <td>1.933732</td>\n",
       "      <td>10.934467</td>\n",
       "      <td>2.865695</td>\n",
       "      <td>2.692594</td>\n",
       "      <td>...</td>\n",
       "      <td>0.0</td>\n",
       "      <td>0.0</td>\n",
       "      <td>0.0</td>\n",
       "      <td>0.0</td>\n",
       "      <td>0.0</td>\n",
       "      <td>0.0</td>\n",
       "      <td>0.0</td>\n",
       "      <td>0.000000</td>\n",
       "      <td>2.738596</td>\n",
       "      <td>0.000000</td>\n",
       "    </tr>\n",
       "    <tr>\n",
       "      <th>3</th>\n",
       "      <td>1.725284</td>\n",
       "      <td>0.293701</td>\n",
       "      <td>1.861466</td>\n",
       "      <td>2.162284</td>\n",
       "      <td>0.607505</td>\n",
       "      <td>8.442133</td>\n",
       "      <td>2.239058</td>\n",
       "      <td>11.119171</td>\n",
       "      <td>3.940331</td>\n",
       "      <td>2.423335</td>\n",
       "      <td>...</td>\n",
       "      <td>0.0</td>\n",
       "      <td>0.0</td>\n",
       "      <td>0.0</td>\n",
       "      <td>0.0</td>\n",
       "      <td>0.0</td>\n",
       "      <td>0.0</td>\n",
       "      <td>0.0</td>\n",
       "      <td>0.000000</td>\n",
       "      <td>2.738596</td>\n",
       "      <td>0.000000</td>\n",
       "    </tr>\n",
       "    <tr>\n",
       "      <th>4</th>\n",
       "      <td>1.099998</td>\n",
       "      <td>0.826490</td>\n",
       "      <td>1.139967</td>\n",
       "      <td>1.148748</td>\n",
       "      <td>1.239309</td>\n",
       "      <td>7.035111</td>\n",
       "      <td>0.373176</td>\n",
       "      <td>9.213027</td>\n",
       "      <td>3.152265</td>\n",
       "      <td>0.000000</td>\n",
       "      <td>...</td>\n",
       "      <td>0.0</td>\n",
       "      <td>0.0</td>\n",
       "      <td>0.0</td>\n",
       "      <td>0.0</td>\n",
       "      <td>0.0</td>\n",
       "      <td>0.0</td>\n",
       "      <td>0.0</td>\n",
       "      <td>2.701597</td>\n",
       "      <td>0.000000</td>\n",
       "      <td>0.000000</td>\n",
       "    </tr>\n",
       "  </tbody>\n",
       "</table>\n",
       "<p>5 rows × 165 columns</p>\n",
       "</div>"
      ],
      "text/plain": [
       "   attribute4  clickVolume  avgOriginalUnitPrice  avgFinalUnitPrice  \\\n",
       "0    0.430007     0.387152              1.558436           1.443917   \n",
       "1    0.616430     0.416279              1.139967           0.821093   \n",
       "2    0.381403     1.185728              1.152954           0.677990   \n",
       "3    1.725284     0.293701              1.861466           2.162284   \n",
       "4    1.099998     0.826490              1.139967           1.148748   \n",
       "\n",
       "   ma14SalesVolume   meanAge    gender  meanEducation  maritalStatus  \\\n",
       "0         0.238142  5.909493  1.791247       9.530718       3.152265   \n",
       "1         1.438571  6.847508  0.995137      10.589686       2.189073   \n",
       "2         2.464039  6.955167  1.933732      10.934467       2.865695   \n",
       "3         0.607505  8.442133  2.239058      11.119171       3.940331   \n",
       "4         1.239309  7.035111  0.373176       9.213027       3.152265   \n",
       "\n",
       "       plus  ...  attribute3_34  attribute3_35  attribute3_39  attribute3_41  \\\n",
       "0  0.000000  ...            0.0            0.0            0.0            0.0   \n",
       "1  0.881213  ...            0.0            0.0            0.0            0.0   \n",
       "2  2.692594  ...            0.0            0.0            0.0            0.0   \n",
       "3  2.423335  ...            0.0            0.0            0.0            0.0   \n",
       "4  0.000000  ...            0.0            0.0            0.0            0.0   \n",
       "\n",
       "   weekday_2  weekday_3  weekday_4  weekday_5  weekday_6  weekday_7  \n",
       "0        0.0        0.0        0.0   0.000000   2.738596   0.000000  \n",
       "1        0.0        0.0        0.0   0.000000   0.000000   3.014627  \n",
       "2        0.0        0.0        0.0   0.000000   2.738596   0.000000  \n",
       "3        0.0        0.0        0.0   0.000000   2.738596   0.000000  \n",
       "4        0.0        0.0        0.0   2.701597   0.000000   0.000000  \n",
       "\n",
       "[5 rows x 165 columns]"
      ]
     },
     "execution_count": 25,
     "metadata": {},
     "output_type": "execute_result"
    }
   ],
   "source": [
    "combined_stan.head()"
   ]
  },
  {
   "cell_type": "code",
   "execution_count": 26,
   "metadata": {},
   "outputs": [],
   "source": [
    "standardized_X_train = combined_stan.iloc[:X_train.shape[0]]\n",
    "standardized_X_test = combined_stan.iloc[X_train.shape[0]:]\n",
    "standardized_X_test.index = test.index"
   ]
  },
  {
   "cell_type": "code",
   "execution_count": 27,
   "metadata": {},
   "outputs": [],
   "source": [
    "standardized_train = pd.concat([standardized_X_train, y], axis=1)\n",
    "standardized_train_log_sales = pd.concat([standardized_X_train, y_log], axis=1)"
   ]
  },
  {
   "cell_type": "code",
   "execution_count": 28,
   "metadata": {},
   "outputs": [],
   "source": [
    "standardized_X_train.to_csv('data/input/standardized_X_train.csv')\n",
    "standardized_X_test.to_csv('data/input/standardized_X_test.csv')"
   ]
  },
  {
   "cell_type": "code",
   "execution_count": 29,
   "metadata": {},
   "outputs": [],
   "source": [
    "standardized_train.to_csv('data/input/standardized_train.csv')\n",
    "standardized_train_log_sales.to_csv('data/input/standardized_train_log_sales.csv')"
   ]
  },
  {
   "attachments": {},
   "cell_type": "markdown",
   "metadata": {},
   "source": [
    "Also save the (log-transformed) response variable."
   ]
  },
  {
   "cell_type": "code",
   "execution_count": 30,
   "metadata": {},
   "outputs": [],
   "source": [
    "y.to_csv('data/input/y_train.csv')\n",
    "y_log.to_csv('data/input/y_log_train.csv')"
   ]
  }
 ],
 "metadata": {
  "kernelspec": {
   "display_name": "IE4211",
   "language": "python",
   "name": "python3"
  },
  "language_info": {
   "codemirror_mode": {
    "name": "ipython",
    "version": 3
   },
   "file_extension": ".py",
   "mimetype": "text/x-python",
   "name": "python",
   "nbconvert_exporter": "python",
   "pygments_lexer": "ipython3",
   "version": "3.9.13"
  },
  "orig_nbformat": 4
 },
 "nbformat": 4,
 "nbformat_minor": 2
}
