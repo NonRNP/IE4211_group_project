{
 "cells": [
  {
   "cell_type": "code",
   "execution_count": 1,
   "metadata": {},
   "outputs": [],
   "source": [
    "import numpy as np\n",
    "import pandas as pd\n",
    "import matplotlib.pyplot as plt"
   ]
  },
  {
   "cell_type": "code",
   "execution_count": 2,
   "metadata": {},
   "outputs": [],
   "source": [
    "X_train = pd.read_csv('data/input/standardized_X_train.csv', index_col=0)\n",
    "y_train = pd.read_csv('data/input/y_train.csv', index_col=0)"
   ]
  },
  {
   "cell_type": "code",
   "execution_count": 3,
   "metadata": {},
   "outputs": [],
   "source": [
    "X_test = pd.read_csv('data/input/standardized_X_test.csv', index_col=0)"
   ]
  },
  {
   "cell_type": "code",
   "execution_count": 4,
   "metadata": {},
   "outputs": [],
   "source": [
    "np.random.seed(42)"
   ]
  },
  {
   "attachments": {},
   "cell_type": "markdown",
   "metadata": {},
   "source": [
    "### 10-fold Cross-Validation"
   ]
  },
  {
   "cell_type": "code",
   "execution_count": 5,
   "metadata": {},
   "outputs": [],
   "source": [
    "from sklearn.model_selection import KFold\n",
    "from sklearn.metrics import mean_squared_error"
   ]
  },
  {
   "cell_type": "code",
   "execution_count": 6,
   "metadata": {},
   "outputs": [],
   "source": [
    "def kfold_mse(X, y, model, k=10):\n",
    "    kf = KFold(n_splits=k)\n",
    "    mses = []\n",
    "    for i, (train_idx, val_idx) in enumerate(kf.split(X, y)):\n",
    "        X_train, X_val = X.iloc[train_idx], X.iloc[val_idx]\n",
    "        y_train, y_val = y.iloc[train_idx], y.iloc[val_idx]\n",
    "        model.fit(X_train, y_train['sales']) # Avoid deprecation warning\n",
    "        y_pred = model.predict(X_val)\n",
    "        mses.append(mean_squared_error(y_pred, y_val['sales']))\n",
    "    return mses"
   ]
  },
  {
   "attachments": {},
   "cell_type": "markdown",
   "metadata": {},
   "source": [
    "Gradient boosting have even more tunable parameters than random forest, therefore we shall concern only `learning_rate`, `max_depth` and `min_samples_leaf` in this project. `n_estimators`, `max_features`, `min_samples_split` are fixed to 1000, 'sqrt' and 0.01. Since boosting is robust to overfitting, we can use as many estimators as computationally feasible."
   ]
  },
  {
   "cell_type": "code",
   "execution_count": 7,
   "metadata": {},
   "outputs": [],
   "source": [
    "learning_rates = [0.01, 0.1, 0.5, 1]\n",
    "max_depths = [None, 3, 5, 10]\n",
    "min_samples_leafs = [1, 3, 5, 10]"
   ]
  },
  {
   "cell_type": "code",
   "execution_count": 8,
   "metadata": {},
   "outputs": [],
   "source": [
    "from sklearn.ensemble import GradientBoostingRegressor"
   ]
  },
  {
   "cell_type": "code",
   "execution_count": 9,
   "metadata": {},
   "outputs": [
    {
     "name": "stdout",
     "output_type": "stream",
     "text": [
      "lr: 0.01, max_depth: None, min_samples_leaf: 1, avg_mse: 275.17936228860066\n",
      "lr: 0.01, max_depth: None, min_samples_leaf: 3, avg_mse: 263.78547014671193\n",
      "lr: 0.01, max_depth: None, min_samples_leaf: 5, avg_mse: 264.2597236608127\n",
      "lr: 0.01, max_depth: None, min_samples_leaf: 10, avg_mse: 266.26905512921064\n",
      "lr: 0.01, max_depth: 3, min_samples_leaf: 1, avg_mse: 345.2118956340704\n",
      "lr: 0.01, max_depth: 3, min_samples_leaf: 3, avg_mse: 339.41527597190645\n",
      "lr: 0.01, max_depth: 3, min_samples_leaf: 5, avg_mse: 333.2488859882639\n",
      "lr: 0.01, max_depth: 3, min_samples_leaf: 10, avg_mse: 333.0837101214895\n",
      "lr: 0.01, max_depth: 5, min_samples_leaf: 1, avg_mse: 288.7920693862775\n",
      "lr: 0.01, max_depth: 5, min_samples_leaf: 3, avg_mse: 293.4984807687527\n",
      "lr: 0.01, max_depth: 5, min_samples_leaf: 5, avg_mse: 290.82526622705717\n",
      "lr: 0.01, max_depth: 5, min_samples_leaf: 10, avg_mse: 296.1121499557462\n",
      "lr: 0.01, max_depth: 10, min_samples_leaf: 1, avg_mse: 264.47155973703104\n",
      "lr: 0.01, max_depth: 10, min_samples_leaf: 3, avg_mse: 268.20549612046227\n",
      "lr: 0.01, max_depth: 10, min_samples_leaf: 5, avg_mse: 266.54738604364115\n",
      "lr: 0.01, max_depth: 10, min_samples_leaf: 10, avg_mse: 266.6506453713911\n",
      "lr: 0.1, max_depth: None, min_samples_leaf: 1, avg_mse: 277.58980527484647\n",
      "lr: 0.1, max_depth: None, min_samples_leaf: 3, avg_mse: 281.3334727505397\n",
      "lr: 0.1, max_depth: None, min_samples_leaf: 5, avg_mse: 266.88924989463993\n",
      "lr: 0.1, max_depth: None, min_samples_leaf: 10, avg_mse: 266.0104807475492\n",
      "lr: 0.1, max_depth: 3, min_samples_leaf: 1, avg_mse: 275.27067466068166\n",
      "lr: 0.1, max_depth: 3, min_samples_leaf: 3, avg_mse: 270.76889813320105\n",
      "lr: 0.1, max_depth: 3, min_samples_leaf: 5, avg_mse: 261.6034824728919\n",
      "lr: 0.1, max_depth: 3, min_samples_leaf: 10, avg_mse: 270.47417789465567\n",
      "lr: 0.1, max_depth: 5, min_samples_leaf: 1, avg_mse: 264.0197851039493\n",
      "lr: 0.1, max_depth: 5, min_samples_leaf: 3, avg_mse: 258.36126966627813\n",
      "lr: 0.1, max_depth: 5, min_samples_leaf: 5, avg_mse: 252.26699585435463\n",
      "lr: 0.1, max_depth: 5, min_samples_leaf: 10, avg_mse: 266.7173986751729\n",
      "lr: 0.1, max_depth: 10, min_samples_leaf: 1, avg_mse: 259.0595006655775\n",
      "lr: 0.1, max_depth: 10, min_samples_leaf: 3, avg_mse: 273.78067037120707\n",
      "lr: 0.1, max_depth: 10, min_samples_leaf: 5, avg_mse: 261.0751416820789\n",
      "lr: 0.1, max_depth: 10, min_samples_leaf: 10, avg_mse: 277.19130931530714\n",
      "lr: 0.5, max_depth: None, min_samples_leaf: 1, avg_mse: 430.76422934098036\n",
      "lr: 0.5, max_depth: None, min_samples_leaf: 3, avg_mse: 388.40569137678654\n",
      "lr: 0.5, max_depth: None, min_samples_leaf: 5, avg_mse: 418.67749503894913\n",
      "lr: 0.5, max_depth: None, min_samples_leaf: 10, avg_mse: 385.47718141695975\n",
      "lr: 0.5, max_depth: 3, min_samples_leaf: 1, avg_mse: 348.42533685680155\n",
      "lr: 0.5, max_depth: 3, min_samples_leaf: 3, avg_mse: 323.3578994378159\n",
      "lr: 0.5, max_depth: 3, min_samples_leaf: 5, avg_mse: 325.9029901803523\n",
      "lr: 0.5, max_depth: 3, min_samples_leaf: 10, avg_mse: 305.97850600792304\n",
      "lr: 0.5, max_depth: 5, min_samples_leaf: 1, avg_mse: 344.933671189307\n",
      "lr: 0.5, max_depth: 5, min_samples_leaf: 3, avg_mse: 325.80568563590634\n",
      "lr: 0.5, max_depth: 5, min_samples_leaf: 5, avg_mse: 344.3078200548993\n",
      "lr: 0.5, max_depth: 5, min_samples_leaf: 10, avg_mse: 342.07700805715666\n",
      "lr: 0.5, max_depth: 10, min_samples_leaf: 1, avg_mse: 397.29333573950834\n",
      "lr: 0.5, max_depth: 10, min_samples_leaf: 3, avg_mse: 370.52439361661885\n",
      "lr: 0.5, max_depth: 10, min_samples_leaf: 5, avg_mse: 373.34876251504227\n",
      "lr: 0.5, max_depth: 10, min_samples_leaf: 10, avg_mse: 378.1863370290888\n",
      "lr: 1, max_depth: None, min_samples_leaf: 1, avg_mse: 659.9182394655988\n",
      "lr: 1, max_depth: None, min_samples_leaf: 3, avg_mse: 698.4142921912297\n",
      "lr: 1, max_depth: None, min_samples_leaf: 5, avg_mse: 680.8348209509195\n",
      "lr: 1, max_depth: None, min_samples_leaf: 10, avg_mse: 673.2251550600644\n",
      "lr: 1, max_depth: 3, min_samples_leaf: 1, avg_mse: 492.6564973779229\n",
      "lr: 1, max_depth: 3, min_samples_leaf: 3, avg_mse: 455.13646310523944\n",
      "lr: 1, max_depth: 3, min_samples_leaf: 5, avg_mse: 459.61161209901655\n",
      "lr: 1, max_depth: 3, min_samples_leaf: 10, avg_mse: 387.6079727459495\n",
      "lr: 1, max_depth: 5, min_samples_leaf: 1, avg_mse: 531.3780419025913\n",
      "lr: 1, max_depth: 5, min_samples_leaf: 3, avg_mse: 548.4994877205175\n",
      "lr: 1, max_depth: 5, min_samples_leaf: 5, avg_mse: 535.0103875015777\n",
      "lr: 1, max_depth: 5, min_samples_leaf: 10, avg_mse: 524.8343880958157\n",
      "lr: 1, max_depth: 10, min_samples_leaf: 1, avg_mse: 683.4772058787975\n",
      "lr: 1, max_depth: 10, min_samples_leaf: 3, avg_mse: 606.1942510410368\n",
      "lr: 1, max_depth: 10, min_samples_leaf: 5, avg_mse: 592.8160088454018\n",
      "lr: 1, max_depth: 10, min_samples_leaf: 10, avg_mse: 628.1045739536428\n"
     ]
    }
   ],
   "source": [
    "best_mses = []\n",
    "best_avg_score = 1e9\n",
    "best_lr = None\n",
    "best_depth = None\n",
    "best_msl = None\n",
    "for lr in learning_rates:\n",
    "    for depth in max_depths:\n",
    "        for min_samples_leaf in min_samples_leafs:\n",
    "            model = GradientBoostingRegressor(min_samples_leaf=min_samples_leaf, min_samples_split=0.01, n_estimators=1000, max_features='sqrt', random_state=42, learning_rate=lr, max_depth=depth)\n",
    "            mses = kfold_mse(X_train, y_train, model)\n",
    "            if np.mean(mses) < best_avg_score:\n",
    "                best_avg_score = np.mean(mses)\n",
    "                best_lr = lr\n",
    "                best_depth = depth\n",
    "                best_msl = min_samples_leaf\n",
    "                best_mses = mses\n",
    "            print(f'lr: {lr}, max_depth: {depth}, min_samples_leaf: {min_samples_leaf}, avg_mse: {np.mean(mses)}')"
   ]
  },
  {
   "attachments": {},
   "cell_type": "markdown",
   "metadata": {},
   "source": [
    "### In-sample analysis"
   ]
  },
  {
   "cell_type": "code",
   "execution_count": 10,
   "metadata": {},
   "outputs": [
    {
     "name": "stdout",
     "output_type": "stream",
     "text": [
      "best lr: 0.1, best max_depth: 5, best min_samples_leaf: 5, best avg_mse: 252.26699585435463\n"
     ]
    }
   ],
   "source": [
    "print(f'best lr: {best_lr}, best max_depth: {best_depth}, best min_samples_leaf: {best_msl}, best avg_mse: {np.mean(best_mses)}')"
   ]
  },
  {
   "cell_type": "code",
   "execution_count": 11,
   "metadata": {},
   "outputs": [
    {
     "data": {
      "text/html": [
       "<div>\n",
       "<style scoped>\n",
       "    .dataframe tbody tr th:only-of-type {\n",
       "        vertical-align: middle;\n",
       "    }\n",
       "\n",
       "    .dataframe tbody tr th {\n",
       "        vertical-align: top;\n",
       "    }\n",
       "\n",
       "    .dataframe thead th {\n",
       "        text-align: right;\n",
       "    }\n",
       "</style>\n",
       "<table border=\"1\" class=\"dataframe\">\n",
       "  <thead>\n",
       "    <tr style=\"text-align: right;\">\n",
       "      <th></th>\n",
       "      <th>Cross-Validation MSE</th>\n",
       "    </tr>\n",
       "  </thead>\n",
       "  <tbody>\n",
       "    <tr>\n",
       "      <th>0</th>\n",
       "      <td>147.018694</td>\n",
       "    </tr>\n",
       "    <tr>\n",
       "      <th>1</th>\n",
       "      <td>168.317133</td>\n",
       "    </tr>\n",
       "    <tr>\n",
       "      <th>2</th>\n",
       "      <td>288.407485</td>\n",
       "    </tr>\n",
       "    <tr>\n",
       "      <th>3</th>\n",
       "      <td>214.800172</td>\n",
       "    </tr>\n",
       "    <tr>\n",
       "      <th>4</th>\n",
       "      <td>203.167299</td>\n",
       "    </tr>\n",
       "    <tr>\n",
       "      <th>5</th>\n",
       "      <td>112.464017</td>\n",
       "    </tr>\n",
       "    <tr>\n",
       "      <th>6</th>\n",
       "      <td>317.057716</td>\n",
       "    </tr>\n",
       "    <tr>\n",
       "      <th>7</th>\n",
       "      <td>160.123400</td>\n",
       "    </tr>\n",
       "    <tr>\n",
       "      <th>8</th>\n",
       "      <td>696.879410</td>\n",
       "    </tr>\n",
       "    <tr>\n",
       "      <th>9</th>\n",
       "      <td>214.434632</td>\n",
       "    </tr>\n",
       "  </tbody>\n",
       "</table>\n",
       "</div>"
      ],
      "text/plain": [
       "   Cross-Validation MSE\n",
       "0            147.018694\n",
       "1            168.317133\n",
       "2            288.407485\n",
       "3            214.800172\n",
       "4            203.167299\n",
       "5            112.464017\n",
       "6            317.057716\n",
       "7            160.123400\n",
       "8            696.879410\n",
       "9            214.434632"
      ]
     },
     "execution_count": 11,
     "metadata": {},
     "output_type": "execute_result"
    }
   ],
   "source": [
    "cv_df = pd.DataFrame(best_mses, columns=['Cross-Validation MSE'])\n",
    "cv_df"
   ]
  },
  {
   "cell_type": "code",
   "execution_count": 12,
   "metadata": {},
   "outputs": [],
   "source": [
    "cv_df.to_csv('data/output/cv/gbr_sta.csv')"
   ]
  }
 ],
 "metadata": {
  "kernelspec": {
   "display_name": "IE4211",
   "language": "python",
   "name": "python3"
  },
  "language_info": {
   "codemirror_mode": {
    "name": "ipython",
    "version": 3
   },
   "file_extension": ".py",
   "mimetype": "text/x-python",
   "name": "python",
   "nbconvert_exporter": "python",
   "pygments_lexer": "ipython3",
   "version": "3.9.13"
  },
  "orig_nbformat": 4
 },
 "nbformat": 4,
 "nbformat_minor": 2
}
